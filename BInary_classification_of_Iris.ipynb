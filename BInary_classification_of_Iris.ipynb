{
  "nbformat": 4,
  "nbformat_minor": 0,
  "metadata": {
    "colab": {
      "provenance": [],
      "authorship_tag": "ABX9TyMM+lHij/Bx+bDEF5sd9QRJ",
      "include_colab_link": true
    },
    "kernelspec": {
      "name": "python3",
      "display_name": "Python 3"
    },
    "language_info": {
      "name": "python"
    }
  },
  "cells": [
    {
      "cell_type": "markdown",
      "metadata": {
        "id": "view-in-github",
        "colab_type": "text"
      },
      "source": [
        "<a href=\"https://colab.research.google.com/github/Maralmaa1/DIV-tasks/blob/main/BInary_classification_of_Iris.ipynb\" target=\"_parent\"><img src=\"https://colab.research.google.com/assets/colab-badge.svg\" alt=\"Open In Colab\"/></a>"
      ]
    },
    {
      "cell_type": "markdown",
      "source": [
        "[Assignment 1] Select features and categories for practice\n",
        "\n",
        "There are a total of 18 ways to choose, but we will practice with the following combinations. After getting the iris dataset in the same way as Week3, extract these from the data frame.\n",
        "\n",
        "virgicolor and virginica\n",
        "sepal_length and petal_length"
      ],
      "metadata": {
        "id": "pYBC5PJkWb9u"
      }
    },
    {
      "cell_type": "code",
      "source": [
        "from sklearn.datasets import load_iris\n",
        "\n",
        "iris = load_iris()"
      ],
      "metadata": {
        "id": "lDxXi2Z9u1YK"
      },
      "execution_count": 2,
      "outputs": []
    },
    {
      "cell_type": "code",
      "source": [
        "import pandas as pd\n",
        "\n",
        "data = pd.DataFrame(data=iris.data[50:],columns=iris.feature_names)\n",
        "target = pd.DataFrame(data=iris.target[50:], columns=['species'])\n",
        "data = data.drop(columns=['sepal width (cm)','petal width (cm)'])\n",
        "data"
      ],
      "metadata": {
        "colab": {
          "base_uri": "https://localhost:8080/",
          "height": 424
        },
        "id": "JCRvIGFYnsiT",
        "outputId": "174b2d80-98e0-48b1-e910-3ff89e9857cd"
      },
      "execution_count": 3,
      "outputs": [
        {
          "output_type": "execute_result",
          "data": {
            "text/plain": [
              "    sepal length (cm)  petal length (cm)\n",
              "0                 7.0                4.7\n",
              "1                 6.4                4.5\n",
              "2                 6.9                4.9\n",
              "3                 5.5                4.0\n",
              "4                 6.5                4.6\n",
              "..                ...                ...\n",
              "95                6.7                5.2\n",
              "96                6.3                5.0\n",
              "97                6.5                5.2\n",
              "98                6.2                5.4\n",
              "99                5.9                5.1\n",
              "\n",
              "[100 rows x 2 columns]"
            ],
            "text/html": [
              "\n",
              "  <div id=\"df-d8db258c-5764-4537-bd0c-8d2a0ec88996\">\n",
              "    <div class=\"colab-df-container\">\n",
              "      <div>\n",
              "<style scoped>\n",
              "    .dataframe tbody tr th:only-of-type {\n",
              "        vertical-align: middle;\n",
              "    }\n",
              "\n",
              "    .dataframe tbody tr th {\n",
              "        vertical-align: top;\n",
              "    }\n",
              "\n",
              "    .dataframe thead th {\n",
              "        text-align: right;\n",
              "    }\n",
              "</style>\n",
              "<table border=\"1\" class=\"dataframe\">\n",
              "  <thead>\n",
              "    <tr style=\"text-align: right;\">\n",
              "      <th></th>\n",
              "      <th>sepal length (cm)</th>\n",
              "      <th>petal length (cm)</th>\n",
              "    </tr>\n",
              "  </thead>\n",
              "  <tbody>\n",
              "    <tr>\n",
              "      <th>0</th>\n",
              "      <td>7.0</td>\n",
              "      <td>4.7</td>\n",
              "    </tr>\n",
              "    <tr>\n",
              "      <th>1</th>\n",
              "      <td>6.4</td>\n",
              "      <td>4.5</td>\n",
              "    </tr>\n",
              "    <tr>\n",
              "      <th>2</th>\n",
              "      <td>6.9</td>\n",
              "      <td>4.9</td>\n",
              "    </tr>\n",
              "    <tr>\n",
              "      <th>3</th>\n",
              "      <td>5.5</td>\n",
              "      <td>4.0</td>\n",
              "    </tr>\n",
              "    <tr>\n",
              "      <th>4</th>\n",
              "      <td>6.5</td>\n",
              "      <td>4.6</td>\n",
              "    </tr>\n",
              "    <tr>\n",
              "      <th>...</th>\n",
              "      <td>...</td>\n",
              "      <td>...</td>\n",
              "    </tr>\n",
              "    <tr>\n",
              "      <th>95</th>\n",
              "      <td>6.7</td>\n",
              "      <td>5.2</td>\n",
              "    </tr>\n",
              "    <tr>\n",
              "      <th>96</th>\n",
              "      <td>6.3</td>\n",
              "      <td>5.0</td>\n",
              "    </tr>\n",
              "    <tr>\n",
              "      <th>97</th>\n",
              "      <td>6.5</td>\n",
              "      <td>5.2</td>\n",
              "    </tr>\n",
              "    <tr>\n",
              "      <th>98</th>\n",
              "      <td>6.2</td>\n",
              "      <td>5.4</td>\n",
              "    </tr>\n",
              "    <tr>\n",
              "      <th>99</th>\n",
              "      <td>5.9</td>\n",
              "      <td>5.1</td>\n",
              "    </tr>\n",
              "  </tbody>\n",
              "</table>\n",
              "<p>100 rows × 2 columns</p>\n",
              "</div>\n",
              "      <button class=\"colab-df-convert\" onclick=\"convertToInteractive('df-d8db258c-5764-4537-bd0c-8d2a0ec88996')\"\n",
              "              title=\"Convert this dataframe to an interactive table.\"\n",
              "              style=\"display:none;\">\n",
              "        \n",
              "  <svg xmlns=\"http://www.w3.org/2000/svg\" height=\"24px\"viewBox=\"0 0 24 24\"\n",
              "       width=\"24px\">\n",
              "    <path d=\"M0 0h24v24H0V0z\" fill=\"none\"/>\n",
              "    <path d=\"M18.56 5.44l.94 2.06.94-2.06 2.06-.94-2.06-.94-.94-2.06-.94 2.06-2.06.94zm-11 1L8.5 8.5l.94-2.06 2.06-.94-2.06-.94L8.5 2.5l-.94 2.06-2.06.94zm10 10l.94 2.06.94-2.06 2.06-.94-2.06-.94-.94-2.06-.94 2.06-2.06.94z\"/><path d=\"M17.41 7.96l-1.37-1.37c-.4-.4-.92-.59-1.43-.59-.52 0-1.04.2-1.43.59L10.3 9.45l-7.72 7.72c-.78.78-.78 2.05 0 2.83L4 21.41c.39.39.9.59 1.41.59.51 0 1.02-.2 1.41-.59l7.78-7.78 2.81-2.81c.8-.78.8-2.07 0-2.86zM5.41 20L4 18.59l7.72-7.72 1.47 1.35L5.41 20z\"/>\n",
              "  </svg>\n",
              "      </button>\n",
              "      \n",
              "  <style>\n",
              "    .colab-df-container {\n",
              "      display:flex;\n",
              "      flex-wrap:wrap;\n",
              "      gap: 12px;\n",
              "    }\n",
              "\n",
              "    .colab-df-convert {\n",
              "      background-color: #E8F0FE;\n",
              "      border: none;\n",
              "      border-radius: 50%;\n",
              "      cursor: pointer;\n",
              "      display: none;\n",
              "      fill: #1967D2;\n",
              "      height: 32px;\n",
              "      padding: 0 0 0 0;\n",
              "      width: 32px;\n",
              "    }\n",
              "\n",
              "    .colab-df-convert:hover {\n",
              "      background-color: #E2EBFA;\n",
              "      box-shadow: 0px 1px 2px rgba(60, 64, 67, 0.3), 0px 1px 3px 1px rgba(60, 64, 67, 0.15);\n",
              "      fill: #174EA6;\n",
              "    }\n",
              "\n",
              "    [theme=dark] .colab-df-convert {\n",
              "      background-color: #3B4455;\n",
              "      fill: #D2E3FC;\n",
              "    }\n",
              "\n",
              "    [theme=dark] .colab-df-convert:hover {\n",
              "      background-color: #434B5C;\n",
              "      box-shadow: 0px 1px 3px 1px rgba(0, 0, 0, 0.15);\n",
              "      filter: drop-shadow(0px 1px 2px rgba(0, 0, 0, 0.3));\n",
              "      fill: #FFFFFF;\n",
              "    }\n",
              "  </style>\n",
              "\n",
              "      <script>\n",
              "        const buttonEl =\n",
              "          document.querySelector('#df-d8db258c-5764-4537-bd0c-8d2a0ec88996 button.colab-df-convert');\n",
              "        buttonEl.style.display =\n",
              "          google.colab.kernel.accessAllowed ? 'block' : 'none';\n",
              "\n",
              "        async function convertToInteractive(key) {\n",
              "          const element = document.querySelector('#df-d8db258c-5764-4537-bd0c-8d2a0ec88996');\n",
              "          const dataTable =\n",
              "            await google.colab.kernel.invokeFunction('convertToInteractive',\n",
              "                                                     [key], {});\n",
              "          if (!dataTable) return;\n",
              "\n",
              "          const docLinkHtml = 'Like what you see? Visit the ' +\n",
              "            '<a target=\"_blank\" href=https://colab.research.google.com/notebooks/data_table.ipynb>data table notebook</a>'\n",
              "            + ' to learn more about interactive tables.';\n",
              "          element.innerHTML = '';\n",
              "          dataTable['output_type'] = 'display_data';\n",
              "          await google.colab.output.renderOutput(dataTable, element);\n",
              "          const docLink = document.createElement('div');\n",
              "          docLink.innerHTML = docLinkHtml;\n",
              "          element.appendChild(docLink);\n",
              "        }\n",
              "      </script>\n",
              "    </div>\n",
              "  </div>\n",
              "  "
            ]
          },
          "metadata": {},
          "execution_count": 3
        }
      ]
    },
    {
      "cell_type": "markdown",
      "source": [
        "[Question 2] Data analysis\n",
        "\n",
        "First, we will analyze the data, which we did in Task 1 of Week 3. By looking at the scatterplot matrix that was output at that time, you can also check the scatterplots for each of the 18 patterns mentioned earlier. You'll find that using sepal_length and petal_length to classify virgicolor and virginica is a bit of a tricky situation.\n",
        "\n",
        "Here, as a review, please display the scatterplot, boxplot, and violinplot of the extracted data."
      ],
      "metadata": {
        "id": "hSsz8pfh1yep"
      }
    },
    {
      "cell_type": "code",
      "source": [
        "import matplotlib.pyplot as plt\n",
        "\n",
        "plt.scatter(data.iloc[:49,0], data.iloc[:49,1],color=['blue'])\n",
        "\n",
        "plt.scatter(data.iloc[50:,0], data.iloc[50:,1], color='pink')\n",
        "plt.show()\n"
      ],
      "metadata": {
        "colab": {
          "base_uri": "https://localhost:8080/",
          "height": 265
        },
        "id": "yG7UMdzIorNE",
        "outputId": "5d20786e-4da1-4758-ac5e-a92f336a53de"
      },
      "execution_count": 4,
      "outputs": [
        {
          "output_type": "display_data",
          "data": {
            "text/plain": [
              "<Figure size 432x288 with 1 Axes>"
            ],
            "image/png": "[encoded data removed]"
          },
          "metadata": {
            "needs_background": "light"
          }
        }
      ]
    },
    {
      "cell_type": "code",
      "source": [
        "import seaborn as sns\n",
        "\n",
        "df = sns.load_dataset('iris')\n",
        "\n",
        "sns.boxplot( x=df[\"species\"], y=df[\"sepal_length\"] )"
      ],
      "metadata": {
        "colab": {
          "base_uri": "https://localhost:8080/",
          "height": 296
        },
        "id": "vmSuohFhvUiy",
        "outputId": "c9db6dbc-c524-4f71-b017-9fbe176e1134"
      },
      "execution_count": 5,
      "outputs": [
        {
          "output_type": "execute_result",
          "data": {
            "text/plain": [
              "<Axes: xlabel='species', ylabel='sepal_length'>"
            ]
          },
          "metadata": {},
          "execution_count": 5
        },
        {
          "output_type": "display_data",
          "data": {
            "text/plain": [
              "<Figure size 432x288 with 1 Axes>"
            ],
            "image/png": "[encoded data removed]"
          },
          "metadata": {
            "needs_background": "light"
          }
        }
      ]
    },
    {
      "cell_type": "code",
      "source": [
        "sns.violinplot( x=df[\"species\"], y=df[\"sepal_length\"] )"
      ],
      "metadata": {
        "colab": {
          "base_uri": "https://localhost:8080/",
          "height": 296
        },
        "id": "9hecLAGV2ZNQ",
        "outputId": "dc9423a3-6da7-446e-a6f5-b097df8d55c7"
      },
      "execution_count": 6,
      "outputs": [
        {
          "output_type": "execute_result",
          "data": {
            "text/plain": [
              "<Axes: xlabel='species', ylabel='sepal_length'>"
            ]
          },
          "metadata": {},
          "execution_count": 6
        },
        {
          "output_type": "display_data",
          "data": {
            "text/plain": [
              "<Figure size 432x288 with 1 Axes>"
            ],
            "image/png": "[encoded data removed]"
          },
          "metadata": {
            "needs_background": "light"
          }
        }
      ]
    },
    {
      "cell_type": "markdown",
      "source": [
        "[Problem 3] Division of preprocessing/training data and validation data\n",
        "\n",
        "As part of the preprocessing, we split the training and validation data. This time split the data as 75% training data and 25% validation data.\n",
        "\n",
        "scikit-learn train_test_splitis available. Please refer to the examples in the official document."
      ],
      "metadata": {
        "id": "o3Aq-nPvPWXH"
      }
    },
    {
      "cell_type": "code",
      "source": [
        "from sklearn.model_selection import train_test_split\n",
        "import numpy as np\n",
        "\n",
        "x_train, x_test, y_train, y_test = train_test_split(data, target, train_size=0.75, random_state=0)\n",
        "\n",
        "print('train feature shape: {}'.format(x_train.shape))\n",
        "print('test feature shape: {}'.format(x_test.shape))\n",
        "print('train label shape: {}'.format(y_train.shape))\n",
        "print('test label shape: {}'.format(y_test.shape))"
      ],
      "metadata": {
        "colab": {
          "base_uri": "https://localhost:8080/"
        },
        "id": "P2NzVjhdNyHH",
        "outputId": "1e8b6ee1-a560-43ba-9e27-35f45b3a332b"
      },
      "execution_count": 7,
      "outputs": [
        {
          "output_type": "stream",
          "name": "stdout",
          "text": [
            "train feature shape: (75, 2)\n",
            "test feature shape: (25, 2)\n",
            "train label shape: (75, 1)\n",
            "test label shape: (25, 1)\n"
          ]
        }
      ]
    },
    {
      "cell_type": "markdown",
      "source": [
        "[Problem 4] Preprocessing and standardization\n",
        "\n",
        "Processing is performed to increase the classification accuracy. The appropriate method differs for each technique, but here we will use standardization as an example.\n",
        "\n",
        "A standardization library is also available in scikit-learn. Use this to standardize."
      ],
      "metadata": {
        "id": "6YO2jAwMSMBb"
      }
    },
    {
      "cell_type": "code",
      "source": [
        "from sklearn.preprocessing import StandardScaler\n",
        "\n",
        "scaler = StandardScaler()\n",
        "scaler.fit(x_train)\n",
        "x_train = scaler.fit_transform(x_train)\n",
        "x_test = scaler.fit_transform(x_test)\n",
        "x_train_scaler = scaler.transform(x_train)\n",
        "x_test_scaler = scaler.transform(x_test)"
      ],
      "metadata": {
        "id": "4u2dihTHQ5nD"
      },
      "execution_count": 11,
      "outputs": []
    },
    {
      "cell_type": "markdown",
      "source": [
        "[Question 5] Learning and Estimation\n",
        "\n",
        "It learns by the nearest neighbors method (k-nearest neighbors, k-nn). Please learn k-nn by referring to Examples in the scikit-learn official document. Input here is the training data."
      ],
      "metadata": {
        "id": "Y9pXRmwMWoNA"
      }
    },
    {
      "cell_type": "code",
      "source": [
        "from sklearn.neighbors import KNeighborsClassifier\n",
        "\n",
        "neigh1 = KNeighborsClassifier(n_neighbors=1)\n",
        "neigh1.fit(x_train, y_train)\n",
        "result1 = neigh1.predict(x_test)\n",
        "result1"
      ],
      "metadata": {
        "colab": {
          "base_uri": "https://localhost:8080/"
        },
        "id": "JTrL8ioATMBh",
        "outputId": "9cf0fe3e-b7ba-4d60-fbcc-bfda18cf5c55"
      },
      "execution_count": 12,
      "outputs": [
        {
          "output_type": "stream",
          "name": "stderr",
          "text": [
            "/usr/local/lib/python3.9/dist-packages/sklearn/neighbors/_classification.py:215: DataConversionWarning: A column-vector y was passed when a 1d array was expected. Please change the shape of y to (n_samples,), for example using ravel().\n",
            "  return self._fit(X, y)\n"
          ]
        },
        {
          "output_type": "execute_result",
          "data": {
            "text/plain": [
              "array([1, 2, 1, 2, 2, 2, 1, 2, 2, 2, 2, 2, 2, 1, 1, 1, 2, 1, 2, 1, 1, 2,\n",
              "       1, 2, 1])"
            ]
          },
          "metadata": {},
          "execution_count": 12
        }
      ]
    },
    {
      "cell_type": "code",
      "source": [
        "neigh2 = KNeighborsClassifier(n_neighbors=3)\n",
        "neigh2.fit(x_train, y_train)\n",
        "result2 = neigh2.predict(x_test)\n",
        "result2"
      ],
      "metadata": {
        "colab": {
          "base_uri": "https://localhost:8080/"
        },
        "id": "m9rQOrVHaZA_",
        "outputId": "4154d513-6340-435d-8f1e-48672ad4e888"
      },
      "execution_count": 13,
      "outputs": [
        {
          "output_type": "stream",
          "name": "stderr",
          "text": [
            "/usr/local/lib/python3.9/dist-packages/sklearn/neighbors/_classification.py:215: DataConversionWarning: A column-vector y was passed when a 1d array was expected. Please change the shape of y to (n_samples,), for example using ravel().\n",
            "  return self._fit(X, y)\n"
          ]
        },
        {
          "output_type": "execute_result",
          "data": {
            "text/plain": [
              "array([1, 2, 1, 2, 2, 2, 1, 2, 2, 2, 2, 2, 2, 1, 1, 1, 2, 1, 2, 1, 1, 2,\n",
              "       1, 2, 1])"
            ]
          },
          "metadata": {},
          "execution_count": 13
        }
      ]
    },
    {
      "cell_type": "code",
      "source": [
        "\n",
        "neigh3 = KNeighborsClassifier(n_neighbors=5)\n",
        "neigh3.fit(x_train, y_train)\n",
        "result3 = neigh3.predict(x_test)\n",
        "result3"
      ],
      "metadata": {
        "colab": {
          "base_uri": "https://localhost:8080/"
        },
        "id": "wYJGTewHaiyx",
        "outputId": "525254ad-dfa7-43fa-fd28-eae1bfa88a38"
      },
      "execution_count": 14,
      "outputs": [
        {
          "output_type": "stream",
          "name": "stderr",
          "text": [
            "/usr/local/lib/python3.9/dist-packages/sklearn/neighbors/_classification.py:215: DataConversionWarning: A column-vector y was passed when a 1d array was expected. Please change the shape of y to (n_samples,), for example using ravel().\n",
            "  return self._fit(X, y)\n"
          ]
        },
        {
          "output_type": "execute_result",
          "data": {
            "text/plain": [
              "array([1, 2, 1, 2, 2, 2, 1, 2, 2, 2, 2, 2, 2, 1, 1, 1, 2, 1, 2, 1, 1, 2,\n",
              "       1, 2, 1])"
            ]
          },
          "metadata": {},
          "execution_count": 14
        }
      ]
    },
    {
      "cell_type": "markdown",
      "source": [
        "Question 6] Evaluation\n",
        "\n",
        "Calculate the closeness between the estimated value obtained by inputting the feature value of the validation data and the correct value of the validation data, and evaluate the trained model.\n",
        "\n",
        "Index values ​​for evaluating binary classification include Accuracy (correct answer rate) , Precision (precision rate) , Recall (recall rate) and F value . To understand what each means, you have to look at the confusion matrix .\n",
        "\n",
        "* Calculate 4 types of indicators using scikit-learn\n",
        "* Display confusion matrix using scikit-learn\n",
        "* Briefly investigate the meaning of the four types of index values ​​and summarize them in sentences"
      ],
      "metadata": {
        "id": "6ccaNXB7as5M"
      }
    },
    {
      "cell_type": "code",
      "source": [
        "from sklearn.metrics import classification_report\n",
        "print('result1 1_nn report: \\n',classification_report(y_test, result1))\n",
        "print('result2 3_nn report: \\n',classification_report(y_test, result2))\n",
        "print('result3 5_nn report: \\n',classification_report(y_test, result3))"
      ],
      "metadata": {
        "colab": {
          "base_uri": "https://localhost:8080/"
        },
        "id": "rxD7tosobAV_",
        "outputId": "c4c4de25-9d58-43aa-d885-2917fc307890"
      },
      "execution_count": 15,
      "outputs": [
        {
          "output_type": "stream",
          "name": "stdout",
          "text": [
            "result1 1_nn report: \n",
            "               precision    recall  f1-score   support\n",
            "\n",
            "           1       1.00      0.85      0.92        13\n",
            "           2       0.86      1.00      0.92        12\n",
            "\n",
            "    accuracy                           0.92        25\n",
            "   macro avg       0.93      0.92      0.92        25\n",
            "weighted avg       0.93      0.92      0.92        25\n",
            "\n",
            "result2 3_nn report: \n",
            "               precision    recall  f1-score   support\n",
            "\n",
            "           1       1.00      0.85      0.92        13\n",
            "           2       0.86      1.00      0.92        12\n",
            "\n",
            "    accuracy                           0.92        25\n",
            "   macro avg       0.93      0.92      0.92        25\n",
            "weighted avg       0.93      0.92      0.92        25\n",
            "\n",
            "result3 5_nn report: \n",
            "               precision    recall  f1-score   support\n",
            "\n",
            "           1       1.00      0.85      0.92        13\n",
            "           2       0.86      1.00      0.92        12\n",
            "\n",
            "    accuracy                           0.92        25\n",
            "   macro avg       0.93      0.92      0.92        25\n",
            "weighted avg       0.93      0.92      0.92        25\n",
            "\n"
          ]
        }
      ]
    },
    {
      "cell_type": "code",
      "source": [
        "from sklearn.metrics import accuracy_score\n",
        "\n",
        "# In multilabel classification, this function computes subset accuracy: the set of labels predicted for a sample must exactly match the corresponding set of labels in y_true.\n",
        "\n",
        "print('result1 1_nn score = ', accuracy_score(y_test, result1))\n",
        "print('result2 3_nn score = ', accuracy_score(y_test, result2))\n",
        "print('result3 5_nn score = ', accuracy_score(y_test, result3))\n",
        "     "
      ],
      "metadata": {
        "colab": {
          "base_uri": "https://localhost:8080/"
        },
        "id": "sc2nwY_MbHIn",
        "outputId": "e26bfa5f-5053-4ca6-ad76-15dd16256a69"
      },
      "execution_count": 16,
      "outputs": [
        {
          "output_type": "stream",
          "name": "stdout",
          "text": [
            "result1 1_nn score =  0.92\n",
            "result2 3_nn score =  0.92\n",
            "result3 5_nn score =  0.92\n"
          ]
        }
      ]
    },
    {
      "cell_type": "code",
      "source": [
        "from sklearn.metrics import precision_score\n",
        "\n",
        "# The precision is the ratio tp / (tp + fp) where tp is the number of true positives and fp the number of false positives.\n",
        "#  The precision is intuitively the ability of the classifier not to label as positive a sample that is negative.\n",
        "\n",
        "# The best value is 1 and the worst value is 0.\n",
        "\n",
        "print('result1 1_nn macro = ', precision_score(y_test, result1, average='macro'))\n",
        "print('result1 1_nn micro = ', precision_score(y_test, result1, average='micro'))\n",
        "print('result1 1_nn weighted = ', precision_score(y_test, result1, average='weighted'))\n",
        "print('result1 1_nn None = ', precision_score(y_test, result1, average=None))\n",
        "print('')\n",
        "\n",
        "print('result2 3_nn macro = ', precision_score(y_test, result2, average='macro'))\n",
        "print('result2 3_nn micro = ', precision_score(y_test, result2, average='micro'))\n",
        "print('result2 3_nn weighted = ', precision_score(y_test, result2, average='weighted'))\n",
        "print('result2 3_nn None = ', precision_score(y_test, result2, average=None))\n",
        "print('')\n",
        "\n",
        "print('result3 5_nn macro = ', precision_score(y_test, result3, average='macro'))\n",
        "print('result3 5_nn micro = ', precision_score(y_test, result3, average='micro'))\n",
        "print('result3 5_nn weighted = ', precision_score(y_test, result3, average='weighted'))\n",
        "print('result3 5_nn None = ', precision_score(y_test, result3, average=None))\n",
        "     "
      ],
      "metadata": {
        "colab": {
          "base_uri": "https://localhost:8080/"
        },
        "id": "mgLLU2F-bNna",
        "outputId": "0584cc67-c1c9-4d3f-e7ab-820c72f63b91"
      },
      "execution_count": 17,
      "outputs": [
        {
          "output_type": "stream",
          "name": "stdout",
          "text": [
            "result1 1_nn macro =  0.9285714285714286\n",
            "result1 1_nn micro =  0.92\n",
            "result1 1_nn weighted =  0.9314285714285714\n",
            "result1 1_nn None =  [1.         0.85714286]\n",
            "\n",
            "result2 3_nn macro =  0.9285714285714286\n",
            "result2 3_nn micro =  0.92\n",
            "result2 3_nn weighted =  0.9314285714285714\n",
            "result2 3_nn None =  [1.         0.85714286]\n",
            "\n",
            "result3 5_nn macro =  0.9285714285714286\n",
            "result3 5_nn micro =  0.92\n",
            "result3 5_nn weighted =  0.9314285714285714\n",
            "result3 5_nn None =  [1.         0.85714286]\n"
          ]
        }
      ]
    },
    {
      "cell_type": "code",
      "source": [
        "from sklearn.metrics import recall_score\n",
        "\n",
        "print('result1 1_nn macro = ', recall_score(y_test, result1, average='macro'))\n",
        "print('result1 1_nn micro = ', recall_score(y_test, result1, average='micro'))\n",
        "print('result1 1_nn weighted = ', recall_score(y_test, result1, average='weighted'))\n",
        "print('result1 1_nn None = ', recall_score(y_test, result1, average=None))\n",
        "print('')\n",
        "\n",
        "# The recall is the ratio tp / (tp + fn) where tp is the number of true positives and fn the number of false negatives.\n",
        "#  The recall is intuitively the ability of the classifier to find all the positive samples.\n",
        "\n",
        "print('result2 3_nn macro = ', recall_score(y_test, result2, average='macro'))\n",
        "print('result2 3_nn micro = ', recall_score(y_test, result2, average='micro'))\n",
        "print('result2 3_nn weighted = ', recall_score(y_test, result2, average='weighted'))\n",
        "print('result2 3_nn None = ', recall_score(y_test, result2, average=None))\n",
        "print('')\n",
        "\n",
        "print('result3 5_nn macro = ', recall_score(y_test, result3, average='macro'))\n",
        "print('result3 5_nn micro = ', recall_score(y_test, result3, average='micro'))\n",
        "print('result3 5_nn weighted = ', recall_score(y_test, result3, average='weighted'))\n",
        "print('result3 5_nn None = ', recall_score(y_test, result3, average=None))\n",
        "     "
      ],
      "metadata": {
        "colab": {
          "base_uri": "https://localhost:8080/"
        },
        "id": "MovXaXOkbTeh",
        "outputId": "52c7b96f-e612-4ff6-af23-4341c9347bc7"
      },
      "execution_count": 18,
      "outputs": [
        {
          "output_type": "stream",
          "name": "stdout",
          "text": [
            "result1 1_nn macro =  0.9230769230769231\n",
            "result1 1_nn micro =  0.92\n",
            "result1 1_nn weighted =  0.92\n",
            "result1 1_nn None =  [0.84615385 1.        ]\n",
            "\n",
            "result2 3_nn macro =  0.9230769230769231\n",
            "result2 3_nn micro =  0.92\n",
            "result2 3_nn weighted =  0.92\n",
            "result2 3_nn None =  [0.84615385 1.        ]\n",
            "\n",
            "result3 5_nn macro =  0.9230769230769231\n",
            "result3 5_nn micro =  0.92\n",
            "result3 5_nn weighted =  0.92\n",
            "result3 5_nn None =  [0.84615385 1.        ]\n"
          ]
        }
      ]
    },
    {
      "cell_type": "code",
      "source": [
        "from sklearn.metrics import f1_score\n",
        "\n",
        "# The F1 score can be interpreted as a harmonic mean of the precision and recall, where an F1 score reaches its best value at 1 and worst score at 0.\n",
        "#  The relative contribution of precision and recall to the F1 score are equal. The formula for the F1 score is:\n",
        "\n",
        "# F1 = 2 * (precision * recall) / (precision + recall)\n",
        "# In the multi-class and multi-label case, this is the average of the F1 score of each class with weighting depending on the average parameter.\n",
        "\n",
        "print('result1 1_nn macro = ', f1_score(y_test, result1, average='macro'))\n",
        "print('result1 1_nn micro = ', f1_score(y_test, result1, average='micro'))\n",
        "print('result1 1_nn weighted = ', f1_score(y_test, result1, average='weighted'))\n",
        "print('result1 1_nn None = ', f1_score(y_test, result1, average=None))\n",
        "print('')\n",
        "\n",
        "print('result2 3_nn macro = ', f1_score(y_test, result2, average='macro'))\n",
        "print('result2 3_nn micro = ', f1_score(y_test, result2, average='micro'))\n",
        "print('result2 3_nn weighted = ', f1_score(y_test, result2, average='weighted'))\n",
        "print('result2 3_nn None = ', f1_score(y_test, result2, average=None))\n",
        "print('')\n",
        "\n",
        "print('result3 5_nn macro = ', f1_score(y_test, result3, average='macro'))\n",
        "print('result3 5_nn micro = ', f1_score(y_test, result3, average='micro'))\n",
        "print('result3 5_nn weighted = ', f1_score(y_test, result3, average='weighted'))\n",
        "print('result3 5_nn None = ', f1_score(y_test, result3, average=None))\n",
        "     "
      ],
      "metadata": {
        "colab": {
          "base_uri": "https://localhost:8080/"
        },
        "id": "HLpbiGzYbXBT",
        "outputId": "431048b7-2c86-42d8-d6f5-3efa60812023"
      },
      "execution_count": 19,
      "outputs": [
        {
          "output_type": "stream",
          "name": "stdout",
          "text": [
            "result1 1_nn macro =  0.9198717948717948\n",
            "result1 1_nn micro =  0.92\n",
            "result1 1_nn weighted =  0.9197435897435898\n",
            "result1 1_nn None =  [0.91666667 0.92307692]\n",
            "\n",
            "result2 3_nn macro =  0.9198717948717948\n",
            "result2 3_nn micro =  0.92\n",
            "result2 3_nn weighted =  0.9197435897435898\n",
            "result2 3_nn None =  [0.91666667 0.92307692]\n",
            "\n",
            "result3 5_nn macro =  0.9198717948717948\n",
            "result3 5_nn micro =  0.92\n",
            "result3 5_nn weighted =  0.9197435897435898\n",
            "result3 5_nn None =  [0.91666667 0.92307692]\n"
          ]
        }
      ]
    },
    {
      "cell_type": "code",
      "source": [
        "from sklearn.metrics import confusion_matrix\n",
        "\n",
        "# By definition a confusion matrix  is such that  is equal to the number of observations known to be in group  and predicted to be in group .\n",
        "\n",
        "# Thus in binary classification, the count of true negatives is , false negatives is , true positives is  and false positives is .\n",
        "\n",
        "print('result1 1_n = \\n', confusion_matrix(y_test, result1))\n",
        "print('')\n",
        "print('result2 3_n = \\n', confusion_matrix(y_test, result2))\n",
        "print('')\n",
        "print('result3 5_n = \\n', confusion_matrix(y_test, result3))"
      ],
      "metadata": {
        "colab": {
          "base_uri": "https://localhost:8080/"
        },
        "id": "RQhi0CwRbbwh",
        "outputId": "3a9f0758-051a-455e-ec63-f7476b4e6284"
      },
      "execution_count": 20,
      "outputs": [
        {
          "output_type": "stream",
          "name": "stdout",
          "text": [
            "result1 1_n = \n",
            " [[11  2]\n",
            " [ 0 12]]\n",
            "\n",
            "result2 3_n = \n",
            " [[11  2]\n",
            " [ 0 12]]\n",
            "\n",
            "result3 5_n = \n",
            " [[11  2]\n",
            " [ 0 12]]\n"
          ]
        }
      ]
    },
    {
      "cell_type": "markdown",
      "source": [
        "[Question 7] Visualization\n",
        "\n",
        "Visualization is performed as part of the evaluation. In this case, we used 2D feature values ​​for classification, so we can visualize it with a scatter plot. Below is a function that draws a decision area on how to divide. Please use this for visualization. For X and y, give training or validation data."
      ],
      "metadata": {
        "id": "qEHCjZgQaNAM"
      }
    },
    {
      "cell_type": "code",
      "source": [
        "import matplotlib.pyplot as plt\n",
        "from matplotlib.colors import ListedColormap\n",
        "import matplotlib.patches as mpatches\n",
        "\n",
        "iris = load_iris\n",
        "data = load_iris().data\n",
        "target = load_iris().target.reshape(-1,1)\n",
        "iris = np.concatenate([data,target], axis=1)\n",
        "iris = pd.DataFrame(iris)\n",
        "X = iris.loc[iris[4]!=0,2:3].values\n",
        "y = iris.loc[iris[4]!=0,4].values\n",
        "\n",
        "# split datasets\n",
        "X_train, X_test, y_train, y_test = train_test_split(X,y, test_size=0.2, random_state=0)\n",
        "   \n",
        "def decision_region(X, y, model, step=0.01, title='decision region of 3-nn', xlabel='xlabel', ylabel='ylabel', target_names=['versicolor', 'virginica']):\n",
        "    # setting\n",
        "    scatter_color = ['red', 'blue']\n",
        "    contourf_color = ['pink', 'skyblue']\n",
        "    n_class = 2\n",
        "\n",
        "    # pred\n",
        "    mesh_f0, mesh_f1  = np.meshgrid(np.arange(np.min(X[:,0])-0.5, np.max(X[:,0])+0.5, step), np.arange(np.min(X[:,1])-0.5, np.max(X[:,1])+0.5, step))\n",
        "    mesh = np.c_[np.ravel(mesh_f0),np.ravel(mesh_f1)]\n",
        "    y_pred = model.predict(mesh).reshape(mesh_f0.shape)\n",
        "\n",
        "    # plot\n",
        "    plt.title(title)\n",
        "    plt.xlabel(xlabel)\n",
        "    plt.ylabel(ylabel)\n",
        "    plt.contourf(mesh_f0, mesh_f1, y_pred, n_class-1, cmap=ListedColormap(contourf_color))\n",
        "    plt.contour(mesh_f0, mesh_f1, y_pred, n_class-1, colors='y', linewidths=3, alpha=0.5)\n",
        "    for i, target in enumerate(np.unique(y)):\n",
        "        plt.scatter(X[y==target][:, 0], X[y==target][:, 1], s=80, color=scatter_color[i], label=target_names[i], marker='o')\n",
        "    patches = [mpatches.Patch(color=scatter_color[i], label=target_names[i]) for i in range(n_class)]\n",
        "    plt.legend(handles=patches)\n",
        "    plt.legend()\n",
        "    plt.show()\n",
        "\n",
        "neigh2 = KNeighborsClassifier(n_neighbors=3)\n",
        "neigh2.fit(X_train, y_train)\n",
        "result2 = neigh2.predict(X_test)\n",
        "result2"
      ],
      "metadata": {
        "colab": {
          "base_uri": "https://localhost:8080/"
        },
        "id": "j3jrdnevYRtd",
        "outputId": "e98546f4-9eb1-46ad-9c7d-3adc15b61297"
      },
      "execution_count": 28,
      "outputs": [
        {
          "output_type": "execute_result",
          "data": {
            "text/plain": [
              "array([1., 2., 2., 2., 2., 2., 1., 2., 2., 2., 2., 2., 2., 1., 1., 1., 2.,\n",
              "       1., 2., 1.])"
            ]
          },
          "metadata": {},
          "execution_count": 28
        }
      ]
    },
    {
      "cell_type": "code",
      "source": [
        "decision_region(X_test, y_test, neigh2)\n"
      ],
      "metadata": {
        "colab": {
          "base_uri": "https://localhost:8080/",
          "height": 295
        },
        "id": "Nw97f3CGcFfm",
        "outputId": "8e9f3aff-96c9-4439-a29f-095065918ec5"
      },
      "execution_count": 29,
      "outputs": [
        {
          "output_type": "display_data",
          "data": {
            "text/plain": [
              "<Figure size 432x288 with 1 Axes>"
            ],
            "image/png": "[encoded data removed]"
          },
          "metadata": {
            "needs_background": "light"
          }
        }
      ]
    },
    {
      "cell_type": "markdown",
      "source": [
        "[Question 8] Learning other methods\n",
        "\n",
        "Please learn, estimate, evaluate, and visualize all of the following methods. Then, summarize the index values ​​in one table. Briefly discuss the results using the table and decision area. Please state which method was good at which indicator value and what decision area was.\n",
        "\n",
        "* Nearest method\n",
        "* logistic regression\n",
        "* SVM\n",
        "* decision tree\n",
        "* random forest\n",
        "\n",
        "The link to the official documentation is below. Each has its own parameters (hyperparameters) to adjust, which are beyond the scope of this exercise. Run with the default values ​​first."
      ],
      "metadata": {
        "id": "EnD_hYrQfqvI"
      }
    },
    {
      "cell_type": "code",
      "source": [
        "from sklearn.neighbors import KNeighborsClassifier\n",
        "neigh = KNeighborsClassifier(n_neighbors=3)\n",
        "neigh.fit(X_train, y_train)\n",
        "neigh_pred = neigh.predict(X_test)\n",
        "\n",
        "accuracy = accuracy_score(y_test, neigh_pred)\n",
        "print('accuracy',accuracy)\n",
        "     "
      ],
      "metadata": {
        "colab": {
          "base_uri": "https://localhost:8080/"
        },
        "id": "EE2adjRWfL5-",
        "outputId": "e35ede46-5a92-4fd0-8ae7-fc0596a5d16f"
      },
      "execution_count": 31,
      "outputs": [
        {
          "output_type": "stream",
          "name": "stdout",
          "text": [
            "accuracy 0.85\n"
          ]
        }
      ]
    },
    {
      "cell_type": "code",
      "source": [
        "from sklearn.linear_model import LogisticRegression\n",
        "clf = LogisticRegression(random_state=0).fit(X_train, y_train)\n",
        "clf_pred = clf.predict(X_test)\n",
        "\n",
        "accuracy = accuracy_score(y_test, clf_pred)\n",
        "print('accuracy',accuracy)"
      ],
      "metadata": {
        "colab": {
          "base_uri": "https://localhost:8080/"
        },
        "id": "ss2HIKjsg9Uk",
        "outputId": "47fac851-75e6-4efe-fcde-c8ff4050846f"
      },
      "execution_count": 32,
      "outputs": [
        {
          "output_type": "stream",
          "name": "stdout",
          "text": [
            "accuracy 0.95\n"
          ]
        }
      ]
    },
    {
      "cell_type": "code",
      "source": [
        "from sklearn.pipeline import make_pipeline\n",
        "from sklearn.preprocessing import StandardScaler\n",
        "from sklearn.svm import SVC\n",
        "svm = make_pipeline(StandardScaler(), SVC(gamma='auto'))\n",
        "svm.fit(X_train, y_train)\n",
        "svm_pred = svm.predict(X_test)\n",
        "\n",
        "accuracy = accuracy_score(y_test, svm_pred)\n",
        "print('accuracy',accuracy)"
      ],
      "metadata": {
        "colab": {
          "base_uri": "https://localhost:8080/"
        },
        "id": "W075rL1KhCXs",
        "outputId": "5017b8e9-ace8-4e7f-b8a1-0f7cc410b41f"
      },
      "execution_count": 33,
      "outputs": [
        {
          "output_type": "stream",
          "name": "stdout",
          "text": [
            "accuracy 0.95\n"
          ]
        }
      ]
    },
    {
      "cell_type": "code",
      "source": [
        "from sklearn.tree import DecisionTreeClassifier\n",
        "dt = DecisionTreeClassifier(random_state=0)\n",
        "dt.fit(X_train,y_train)\n",
        "dt_pred = dt.predict(X_test)\n",
        "\n",
        "accuracy = accuracy_score(y_test, dt_pred)\n",
        "print('accuracy',accuracy)"
      ],
      "metadata": {
        "colab": {
          "base_uri": "https://localhost:8080/"
        },
        "id": "oDpcFVgmhF5G",
        "outputId": "9984cd1c-5465-463d-b376-c747c652e4dd"
      },
      "execution_count": 34,
      "outputs": [
        {
          "output_type": "stream",
          "name": "stdout",
          "text": [
            "accuracy 0.8\n"
          ]
        }
      ]
    },
    {
      "cell_type": "code",
      "source": [
        "from sklearn.ensemble import RandomForestClassifier\n",
        "\n",
        "rf = RandomForestClassifier(max_depth=2, random_state=0)\n",
        "rf.fit(X_train, y_train)\n",
        "rf_pred = rf.predict(X_test)\n",
        "\n",
        "accuracy = accuracy_score(y_test, rf_pred)\n",
        "print('accuracy',accuracy)"
      ],
      "metadata": {
        "colab": {
          "base_uri": "https://localhost:8080/"
        },
        "id": "QZq8fPcQhKjr",
        "outputId": "9bf6c562-655c-410f-82fd-c06bda8c62b3"
      },
      "execution_count": 35,
      "outputs": [
        {
          "output_type": "stream",
          "name": "stdout",
          "text": [
            "accuracy 0.85\n"
          ]
        }
      ]
    },
    {
      "cell_type": "code",
      "source": [],
      "metadata": {
        "id": "yyg8tdXthOU-"
      },
      "execution_count": null,
      "outputs": []
    }
  ]
}