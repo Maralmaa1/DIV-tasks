{
  "nbformat": 4,
  "nbformat_minor": 0,
  "metadata": {
    "colab": {
      "provenance": [],
      "authorship_tag": "ABX9TyMAqh+S5BUXqsfhrpm0pulk",
      "include_colab_link": true
    },
    "kernelspec": {
      "name": "python3",
      "display_name": "Python 3"
    },
    "language_info": {
      "name": "python"
    }
  },
  "cells": [
    {
      "cell_type": "markdown",
      "metadata": {
        "id": "view-in-github",
        "colab_type": "text"
      },
      "source": [
        "<a href=\"https://colab.research.google.com/github/Maralmaa1/DIV-tasks/blob/main/WheatAndTheChessboardProblem.ipynb\" target=\"_parent\"><img src=\"https://colab.research.google.com/assets/colab-badge.svg\" alt=\"Open In Colab\"/></a>"
      ]
    },
    {
      "cell_type": "markdown",
      "source": [
        "Think in small squares\n",
        "\n",
        "Sample code"
      ],
      "metadata": {
        "id": "76lv_zvq7-ZC"
      }
    },
    {
      "cell_type": "code",
      "source": [
        "n_squares = 4\n",
        "small_board_list = [1]\n",
        "for _ in range(n_squares - 1):\n",
        "    small_board_list.append(2*small_board_list[-1])\n",
        "print(\"4マスの板に小麦を並べる（リスト）：{}\".format(small_board_list))"
      ],
      "metadata": {
        "colab": {
          "base_uri": "https://localhost:8080/"
        },
        "id": "WtnZilQ98FQo",
        "outputId": "60cb499d-57d5-428f-ad76-99622eb06753"
      },
      "execution_count": 2,
      "outputs": [
        {
          "output_type": "stream",
          "name": "stdout",
          "text": [
            "4マスの板に小麦を並べる（リスト）：[1, 2, 4, 8]\n"
          ]
        }
      ]
    },
    {
      "cell_type": "code",
      "source": [
        "import numpy as np\n",
        "\n",
        "small_board_ndarray = np.array(small_board_list)\n",
        "print(\"4マスの板に小麦を並べる（ndarray）：{}\".format(small_board_ndarray))"
      ],
      "metadata": {
        "colab": {
          "base_uri": "https://localhost:8080/"
        },
        "id": "RQtQOmBX8Jjr",
        "outputId": "382da111-1056-4773-d8dd-7b4f9e6f68a9"
      },
      "execution_count": 3,
      "outputs": [
        {
          "output_type": "stream",
          "name": "stdout",
          "text": [
            "4マスの板に小麦を並べる（ndarray）：[1 2 4 8]\n"
          ]
        }
      ]
    },
    {
      "cell_type": "markdown",
      "source": [
        "[Question 1] Number of wheat on a 2x2 square chessboard\n",
        "Represent a chessboard with 2x2 squares as an ndarray and calculate the number of grains in each square. Place 1 wheat in the top left square, then 2 on the right, 4 on the bottom left, 8 on the bottom right, and so on.\n",
        "\n",
        "Transform the shape of the ndarray created in the sample code."
      ],
      "metadata": {
        "id": "9HMe0Bvuc_DX"
      }
    },
    {
      "cell_type": "code",
      "execution_count": 4,
      "metadata": {
        "id": "HWGKsgbEcfPj",
        "colab": {
          "base_uri": "https://localhost:8080/"
        },
        "outputId": "c87c6075-91be-4acb-9a11-da73d94c874c"
      },
      "outputs": [
        {
          "output_type": "stream",
          "name": "stdout",
          "text": [
            "[[1 2]\n",
            " [4 8]] Place 1 wheat in the top left square, then 2 on the right, 4 on the bottom left, 8 on the bottom right\n"
          ]
        }
      ],
      "source": [
        "# we have already nd array of small chessboard. \n",
        "reshaped_ndarray = small_board_ndarray.reshape((2,2))\n",
        "print(\"{} Place 1 wheat in the top left square, then 2 on the right, 4 on the bottom left, 8 on the bottom right\".format(reshaped_ndarray))"
      ]
    },
    {
      "cell_type": "markdown",
      "source": [
        "[Problem 2] Extension to n × m squares\n",
        "\n",
        "Create a function that returns an ndarray of wheat counts on an nxm chessboard. Then use this function to find the number of wheat on an 8x8 chessboard."
      ],
      "metadata": {
        "id": "sGBjy2JzEITc"
      }
    },
    {
      "cell_type": "code",
      "source": [
        "def number_of_wheat(x,y) :\n",
        "  n_squares = x * y \n",
        "  n = 0\n",
        "  board_list = [1]\n",
        "\n",
        "  for _ in range(n_squares - 1):\n",
        "    board_list.append(2 * board_list[-1])\n",
        "    \n",
        "  board_ndarray = np.array(board_list)\n",
        "  board_ndarray = np.array(board_ndarray, dtype=np.uint64)\n",
        "  board_ndarray = board_ndarray.reshape((x, y))\n",
        "  return board_ndarray, x, y\n",
        "\n",
        "numbers_of_wheats, column, row = number_of_wheat(8,8)\n",
        "\n",
        "print(\"{} wheats in {}x{} chess board\".format(numbers_of_wheats, row, column))\n"
      ],
      "metadata": {
        "colab": {
          "base_uri": "https://localhost:8080/"
        },
        "id": "-FoBJbGB74eN",
        "outputId": "fa294988-0767-4ec6-e45b-4e5edf3b945c"
      },
      "execution_count": 5,
      "outputs": [
        {
          "output_type": "stream",
          "name": "stdout",
          "text": [
            "[[                  1                   2                   4\n",
            "                    8                  16                  32\n",
            "                   64                 128]\n",
            " [                256                 512                1024\n",
            "                 2048                4096                8192\n",
            "                16384               32768]\n",
            " [              65536              131072              262144\n",
            "               524288             1048576             2097152\n",
            "              4194304             8388608]\n",
            " [           16777216            33554432            67108864\n",
            "            134217728           268435456           536870912\n",
            "           1073741824          2147483648]\n",
            " [         4294967296          8589934592         17179869184\n",
            "          34359738368         68719476736        137438953472\n",
            "         274877906944        549755813888]\n",
            " [      1099511627776       2199023255552       4398046511104\n",
            "        8796093022208      17592186044416      35184372088832\n",
            "       70368744177664     140737488355328]\n",
            " [    281474976710656     562949953421312    1125899906842624\n",
            "     2251799813685248    4503599627370496    9007199254740992\n",
            "    18014398509481984   36028797018963968]\n",
            " [  72057594037927936  144115188075855872  288230376151711744\n",
            "   576460752303423488 1152921504606846976 2305843009213693952\n",
            "  4611686018427387904 9223372036854775808]] wheats in 8x8 chess board\n"
          ]
        }
      ]
    },
    {
      "cell_type": "markdown",
      "source": [
        "[Question 3] Total number of wheat\n",
        "\n",
        "Find the total number of wheat on an 8x8 chess board. Also find the average of each column and visualize it in a bar chart.\n",
        "\n",
        "Sample code for bar charts is available."
      ],
      "metadata": {
        "id": "4NaoAeBJUGPA"
      }
    },
    {
      "cell_type": "code",
      "source": [
        "import matplotlib.pyplot as plt\n",
        "\n",
        "total_number_of_wheat = np.sum(numbers_of_wheats)\n",
        "mean_of_columns = np.mean(numbers_of_wheats, axis=0)\n",
        "\n",
        "print(\"The total number of wheat is {}\".format(total_number_of_wheat))\n",
        "print(\"{}\".format(mean_of_columns))\n",
        "\n",
        "plt.xlabel(\"column\")\n",
        "plt.ylabel(\"number\")\n",
        "plt.title(\"number in each column\")\n",
        "plt.bar(np.arange(8),np.mean(numbers_of_wheats.astype(np.uint64), axis=0))\n",
        "plt.show()"
      ],
      "metadata": {
        "colab": {
          "base_uri": "https://localhost:8080/",
          "height": 347
        },
        "id": "SgVbADpeLBvE",
        "outputId": "1767eebf-bfd9-4c6d-dfc4-8f1f3aaefd5d"
      },
      "execution_count": 9,
      "outputs": [
        {
          "output_type": "stream",
          "name": "stdout",
          "text": [
            "The total number of wheat is 18446744073709551615\n",
            "[9.04252160e+15 1.80850432e+16 3.61700864e+16 7.23401728e+16\n",
            " 1.44680346e+17 2.89360691e+17 5.78721383e+17 1.15744277e+18]\n"
          ]
        },
        {
          "output_type": "display_data",
          "data": {
            "text/plain": [
              "<Figure size 432x288 with 1 Axes>"
            ],
            "image/png": "[encoded data removed]"
          },
          "metadata": {
            "needs_background": "light"
          }
        }
      ]
    },
    {
      "cell_type": "markdown",
      "source": [
        "[Question 4] Heat map of the number of wheat\n",
        "\n",
        "Visualize the number of wheat on an 8x8 square chessboard as a heatmap.\n",
        "\n",
        "Heatmap provides sample code."
      ],
      "metadata": {
        "id": "UzNRn-SaYAT7"
      }
    },
    {
      "cell_type": "code",
      "source": [
        "plt.xlabel(\"column\")\n",
        "plt.ylabel(\"row\")\n",
        "plt.title(\"heatmap\")\n",
        "plt.pcolor(np.array(numbers_of_wheats).reshape(8,8))\n",
        "plt.show()"
      ],
      "metadata": {
        "id": "f_d_67TEevS0",
        "colab": {
          "base_uri": "https://localhost:8080/",
          "height": 295
        },
        "outputId": "e8c9b68f-5cf5-46b1-b44b-884587f1e223"
      },
      "execution_count": null,
      "outputs": [
        {
          "output_type": "display_data",
          "data": {
            "text/plain": [
              "<Figure size 432x288 with 1 Axes>"
            ],
            "image/png": "[encoded data removed]"
          },
          "metadata": {
            "needs_background": "light"
          }
        }
      ]
    },
    {
      "cell_type": "markdown",
      "source": [
        "[Question 5] How many times the second half is the first half?\n",
        "\n",
        "Find the number of wheat in the second half of the chessboard multiplied by the number of wheat in the first half. The first half is rows 0 to 3 of the array, the second half is rows 4 to 7."
      ],
      "metadata": {
        "id": "iCFEXQjvYpZ5"
      }
    },
    {
      "cell_type": "code",
      "source": [
        "firstHalf, secondHalf = np.hsplit(numbers_of_wheats.astype(np.uint64), [4])\n",
        "array_div = secondHalf / firstHalf\n",
        "total_division_of_halfs = np.sum(secondHalf)/np.sum(firstHalf)\n",
        "print(\"{} is multiple of first half's total number of wheat and second half's\".format(total_division_of_halfs))\n",
        "print(array_div)"
      ],
      "metadata": {
        "colab": {
          "base_uri": "https://localhost:8080/"
        },
        "id": "xf4VM5kZYH4o",
        "outputId": "376b84ce-1360-4929-f424-1c8e9177b51f"
      },
      "execution_count": null,
      "outputs": [
        {
          "output_type": "stream",
          "name": "stdout",
          "text": [
            "16.0 is multiple of first half's total number of wheat and second half's\n",
            "[[16. 16. 16. 16.]\n",
            " [16. 16. 16. 16.]\n",
            " [16. 16. 16. 16.]\n",
            " [16. 16. 16. 16.]\n",
            " [16. 16. 16. 16.]\n",
            " [16. 16. 16. 16.]\n",
            " [16. 16. 16. 16.]\n",
            " [16. 16. 16. 16.]]\n"
          ]
        }
      ]
    },
    {
      "cell_type": "markdown",
      "source": [
        "[Problem 6] Extension to n × m squares by other calculation methods\n",
        "\n",
        "Create a new ``function that returns an ndarray that describes the number of wheat on an n x m square chessboard'' similar to Problem 2, np.append()one that uses and one that uses broadcasting.\n",
        "\n",
        "Use those functions to find again the number of wheat on the 8x8 square chessboard."
      ],
      "metadata": {
        "id": "9GN92cC-jjIr"
      }
    },
    {
      "cell_type": "code",
      "source": [
        "def total_number(x, y) :\n",
        "  n_squares = x * y \n",
        "  board_list = [1]\n",
        "\n",
        "  for _ in range(n_squares - 1):\n",
        "    board_list.append(2 * board_list[-1])\n",
        "\n",
        "  board_array = np.array(board_list)\n",
        "  total_number_of_wheat = np.sum(board_array)\n",
        "  return total_number_of_wheat, x, y\n",
        "\n",
        "total_number_of_wheat, column, row = total_number(8,8)\n",
        "\n",
        "print(\"{} wheats in {}x{} chess board\".format(total_number_of_wheat, row, column))\n"
      ],
      "metadata": {
        "colab": {
          "base_uri": "https://localhost:8080/"
        },
        "id": "EcrfbeNoZ3yg",
        "outputId": "dea9c74e-bbf2-43f2-e190-1623b69b829b"
      },
      "execution_count": 22,
      "outputs": [
        {
          "output_type": "stream",
          "name": "stdout",
          "text": [
            "1.8446744073709552e+19 wheats in 8x8 chess board\n"
          ]
        }
      ]
    },
    {
      "cell_type": "markdown",
      "source": [
        "[Question 7] Comparison of calculation time\n",
        "\n",
        "I've seen 3 different methods. Please measure each calculation time using Jupyter Notebook %%timeitand compare and discuss.\n",
        "\n",
        "%%timeitworks by executing the code in the cell multiple times and printing its average execution time."
      ],
      "metadata": {
        "id": "mnY-FDx_jxdZ"
      }
    },
    {
      "cell_type": "code",
      "source": [
        "%%timeit\n",
        "def total_number(x, y) :\n",
        "  n_squares = x * y \n",
        "  board_list = [1]\n",
        "\n",
        "  for _ in range(n_squares - 1):\n",
        "    board_list.append(2 * board_list[-1])\n",
        "\n",
        "  board_array = np.array(board_list)\n",
        "  total_number_of_wheat = np.sum(board_array)\n",
        "  return total_number_of_wheat, x, y\n",
        "\n",
        "total_number_of_wheat, column, row = total_number(8,8)"
      ],
      "metadata": {
        "id": "u_M7-aa7jLGr",
        "colab": {
          "base_uri": "https://localhost:8080/"
        },
        "outputId": "380c1317-b789-4f60-a947-95bdf5baf940"
      },
      "execution_count": 27,
      "outputs": [
        {
          "output_type": "stream",
          "name": "stdout",
          "text": [
            "22 µs ± 964 ns per loop (mean ± std. dev. of 7 runs, 10000 loops each)\n"
          ]
        }
      ]
    },
    {
      "cell_type": "code",
      "source": [],
      "metadata": {
        "id": "CuDpDyXERjUF"
      },
      "execution_count": null,
      "outputs": []
    }
  ]
}