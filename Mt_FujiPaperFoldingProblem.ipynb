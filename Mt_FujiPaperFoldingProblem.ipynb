{
  "nbformat": 4,
  "nbformat_minor": 0,
  "metadata": {
    "colab": {
      "provenance": [],
      "authorship_tag": "ABX9TyPmFY7TAdX57lMCZeE8WLZO",
      "include_colab_link": true
    },
    "kernelspec": {
      "name": "python3",
      "display_name": "Python 3"
    },
    "language_info": {
      "name": "python"
    }
  },
  "cells": [
    {
      "cell_type": "markdown",
      "metadata": {
        "id": "view-in-github",
        "colab_type": "text"
      },
      "source": [
        "<a href=\"https://colab.research.google.com/github/Maralmaa1/DIV-tasks/blob/main/Mt_FujiPaperFoldingProblem.ipynb\" target=\"_parent\"><img src=\"https://colab.research.google.com/assets/colab-badge.svg\" alt=\"Open In Colab\"/></a>"
      ]
    },
    {
      "cell_type": "markdown",
      "source": [
        "[Problem 1] How many times to fold paper to exceed the height of Mt.Fuji?\n",
        "Create a program that calculates the minimum number of times to fold the paper required for the thickness to exceed the \"height of Mt. Fuji (3776m)\"."
      ],
      "metadata": {
        "id": "Vbgz212CzEE1"
      }
    },
    {
      "cell_type": "code",
      "execution_count": 7,
      "metadata": {
        "colab": {
          "base_uri": "https://localhost:8080/"
        },
        "id": "O9G4Rxo4w5Cs",
        "outputId": "d6a42e5f-0b7c-4912-c707-72bef86b14a2"
      },
      "outputs": [
        {
          "output_type": "stream",
          "name": "stdout",
          "text": [
            "25.49 of times to fold the paper required for the thickness to exceed the height of Mt.Fuji (3776m)\n"
          ]
        }
      ],
      "source": [
        "import math\n",
        "paper_thickness = 0.00008\n",
        "height_of_Fuji = 3776\n",
        "print(\"{:.2f} of times to fold the paper required for the thickness to exceed the height of Mt.Fuji (3776m)\".format(math.log2(height_of_Fuji/paper_thickness)))\n"
      ]
    },
    {
      "cell_type": "markdown",
      "source": [
        "[Problem 2] Function corresponding to arbitrary thickness\n",
        "Implement a function that, given a height, outputs the minimum number of paper folds required to exceed it. Let's also set the thickness $t_{0}$ before folding as an argument.\n",
        "\n",
        "Use this function to calculate how many times the paper needs to be folded to reach the \"nearest non-Sun star\".\n",
        "The \"nearest non-Sun star\" is Proxima Centauri, which is about $4.0175 \\times 10^{16}$m from Earth."
      ],
      "metadata": {
        "id": "giAmZqVHzCwP"
      }
    },
    {
      "cell_type": "code",
      "source": [
        "def number_of_folds(distance_of_Centauri) :\n",
        "  paper_thickness = 0.00008\n",
        "  number_of_folded_paper = math.log2(distance_of_Centauri/paper_thickness)\n",
        "  return(number_of_folded_paper)\n",
        "number_of_folded_paper = number_of_folds(4.0175*10**16)\n",
        "print(\"{:.2f} of times to fold the paper reached for the thickness to exceed The nearest non-Sun star is Proxima Centauri \".format(number_of_folded_paper))\n"
      ],
      "metadata": {
        "colab": {
          "base_uri": "https://localhost:8080/"
        },
        "id": "gyaGswkx1azx",
        "outputId": "d3e2cd70-daca-4f34-c259-8e1a7c4ac720"
      },
      "execution_count": 14,
      "outputs": [
        {
          "output_type": "stream",
          "name": "stdout",
          "text": [
            "68.77 of times to fold the paper reached for the thickness to exceed The nearest non-Sun star is Proxima Centauri \n"
          ]
        }
      ]
    },
    {
      "cell_type": "markdown",
      "source": [
        "[Question 3] Required paper length\n",
        "In fact, the paper around us cannot be folded 10 times, let alone 43 times. However, the larger the paper, the more it can be folded. There is a formula for finding the number of times a long piece of paper, such as toilet paper, can be folded when considering folding it in one direction.\n",
        "\n",
        "The length L of paper required to fold a paper of thickness $t_{0}$ n times is obtained by the following formula.\n",
        "\n",
        "Use this formula to implement a function that finds the length of paper needed to actually fold the paper and reach any thickness.\n",
        "\n",
        "And use this to find the length of paper necessary to reach the \"moon\", \"Mt. Fuji\" and \"the nearest star other than the sun\"."
      ],
      "metadata": {
        "id": "T282JOEL6--c"
      }
    },
    {
      "cell_type": "code",
      "source": [
        "def calculate_length_of_paper(n) :\n",
        "  paper_thickness = 0.00008\n",
        "  length_of_paper = ((math.pi * n)/6)*((2**n)+4)*((2**n)-1)\n",
        "  return length_of_paper\n",
        "\n",
        "distance_of_moon = 384400000\n",
        "distance_of_Centauri = 4.0175*10**16\n",
        "heigh_of_Fuji = 3776\n",
        "\n",
        "n0 = number_of_folds(distance_of_moon)\n",
        "n1 = number_of_folds(distance_of_Centauri)\n",
        "n2 = number_of_folds(heigh_of_Fuji)\n",
        "\n",
        "length_of_paper0 = calculate_length_of_paper(n0) #to reach the moon\n",
        "length_of_paper1 = calculate_length_of_paper(n1) #to reach the Centauri\n",
        "length_of_paper2 = calculate_length_of_paper(n2) #to exceed the Fuji\n",
        "\n",
        "print(\"{} length of paper required to reach the moon\".format(length_of_paper0))\n",
        "print(\"{} length of paper required to reach the Centauri\".format(length_of_paper1))\n",
        "print(\"{} length of paper required to exceed the Fuji\".format(length_of_paper2))"
      ],
      "metadata": {
        "colab": {
          "base_uri": "https://localhost:8080/"
        },
        "id": "Hoq6kPdN7GeK",
        "outputId": "e3e2c60c-bb0c-4c8f-ba6a-e3464b41e408"
      },
      "execution_count": 41,
      "outputs": [
        {
          "output_type": "stream",
          "name": "stdout",
          "text": [
            "5.092756161977221e+26 length of paper required to reach the moon\n",
            "9.080487372783972e+42 length of paper required to reach the Centauri\n",
            "2.9736605218399668e+16 length of paper required to exceed the Fuji\n"
          ]
        }
      ]
    }
  ]
}