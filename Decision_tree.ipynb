{
  "nbformat": 4,
  "nbformat_minor": 0,
  "metadata": {
    "colab": {
      "provenance": [],
      "authorship_tag": "ABX9TyNyVay6jsRD9h3R9CMklaMl",
      "include_colab_link": true
    },
    "kernelspec": {
      "name": "python3",
      "display_name": "Python 3"
    },
    "language_info": {
      "name": "python"
    }
  },
  "cells": [
    {
      "cell_type": "markdown",
      "metadata": {
        "id": "view-in-github",
        "colab_type": "text"
      },
      "source": [
        "<a href=\"https://colab.research.google.com/github/Maralmaa1/DIV-tasks/blob/main/Decision_tree.ipynb\" target=\"_parent\"><img src=\"https://colab.research.google.com/assets/colab-badge.svg\" alt=\"Open In Colab\"/></a>"
      ]
    },
    {
      "cell_type": "markdown",
      "source": [
        "Preprocessing"
      ],
      "metadata": {
        "id": "fkdCsqSMbyUk"
      }
    },
    {
      "cell_type": "code",
      "execution_count": 16,
      "metadata": {
        "id": "71LZa5ptbSdJ"
      },
      "outputs": [],
      "source": [
        "import numpy as np\n",
        "import pandas as pd\n",
        "import collections\n",
        "import matplotlib.pyplot as plt\n",
        "from sklearn.datasets import load_iris\n",
        "from sklearn.model_selection import train_test_split\n",
        "from sklearn.metrics import accuracy_score, precision_score, recall_score\n",
        "from sklearn.tree import DecisionTreeClassifier\n",
        "from sklearn.preprocessing import StandardScaler\n",
        "import matplotlib.colors"
      ]
    },
    {
      "cell_type": "markdown",
      "source": [
        "**Problem 1-4\n",
        "Creating a decision tree Scratch**"
      ],
      "metadata": {
        "id": "AoY8d_fzbwZT"
      }
    },
    {
      "cell_type": "code",
      "source": [
        "class  ScratchDecisionTreeClassifier ():\n",
        "  def __init__(self, verbose=False):\n",
        "      self.verbose = verbose\n",
        "\n",
        "\n",
        "  def fit(self, X, y):\n",
        "    self.gain = 0\n",
        "    for feature_index in range(X.shape[1]):\n",
        "        self.thresholds = np.unique(X[:,feature_index])\n",
        "        for threshold in self.thresholds:\n",
        "            _gain = self._calc_ig(X,feature_index,y,threshold)\n",
        "            if _gain > self.gain:\n",
        "                self.l_label = collections.Counter(y[X[:,feature_index] < threshold]).most_common()[0][0]\n",
        "                self.r_label = collections.Counter(y[X[:,feature_index] >= threshold]).most_common()[0][0]\n",
        "                self.feature = feature_index\n",
        "                self.threshold = threshold\n",
        "                self.gain = _gain\n",
        "                if self.verbose:\n",
        "                    print('feature',self.feature,'threshold',self.threshold,'gain',self.gain)    \n",
        "\n",
        "\n",
        "  def predict(self, X):\n",
        "    prediction = np.where(X[:,self.feature] < self.threshold,self.l_label,self.r_label)\n",
        "    return prediction\n",
        "\n",
        "\n",
        "  def _calc_gini(self,y):\n",
        "    labels,counts = np.unique(y,return_counts=True)\n",
        "    _gini = 0\n",
        "    for label in labels:\n",
        "        _gini += (counts[labels==label]/np.sum(counts))**2\n",
        "    gini = 1 - _gini\n",
        "    return gini\n",
        "\n",
        "\n",
        "  def _calc_ig(self,X,feature_index,y,threshold):\n",
        "    labels_l = y[X[:,feature_index] < threshold]\n",
        "    labels_r = y[X[:,feature_index] >= threshold]\n",
        "    gain_l = (len(labels_l)/(len(labels_l)+len(labels_r)))*self._calc_gini(labels_l)\n",
        "    gain_r = (len(labels_r)/(len(labels_l)+len(labels_r)))*self._calc_gini(labels_r)\n",
        "    gain = self._calc_gini(y) -gain_l -gain_r\n",
        "    return gain"
      ],
      "metadata": {
        "id": "zzJAYKRkcMH6"
      },
      "execution_count": 17,
      "outputs": []
    },
    {
      "cell_type": "code",
      "source": [
        "def decision_region(X,y,slr):\n",
        "    mesh_f0, mesh_f1  = np.meshgrid(\n",
        "        np.arange(np.min(X[:,0]), np.max(X[:,0]), 0.01), \n",
        "        np.arange(np.min(X[:,1]), np.max(X[:,1]), 0.01)\n",
        "    )\n",
        "    mesh = np.c_[np.ravel(mesh_f0),np.ravel(mesh_f1)]\n",
        "    print(\"mesh shape:{}\".format(mesh.shape))\n",
        "    y_pred = slr.predict(mesh).reshape(mesh_f0.shape)\n",
        "    plt.title('decision region')\n",
        "    plt.xlabel('feature0')\n",
        "    plt.ylabel('feature1')\n",
        "    plt.contourf(mesh_f0, mesh_f1, y_pred,cmap=matplotlib.colors.ListedColormap(['pink', 'skyblue']))\n",
        "    plt.contour(mesh_f0, mesh_f1, y_pred,colors='red')\n",
        "    plt.scatter(X[y==0][:, 0], X[y==0][:, 1],label='0')\n",
        "    plt.scatter(X[y==1][:, 0], X[y==1][:, 1],label='1')\n",
        "    plt.legend()\n",
        "    plt.show()"
      ],
      "metadata": {
        "id": "2Y8B62oUdZTe"
      },
      "execution_count": 18,
      "outputs": []
    },
    {
      "cell_type": "markdown",
      "source": [
        "**Problem 5 Learning and estimation**"
      ],
      "metadata": {
        "id": "ObbZf-bbcXqz"
      }
    },
    {
      "cell_type": "code",
      "source": [
        "iris_dataset = load_iris()\n",
        "\n",
        "X = iris_dataset.data[:100,:]\n",
        "y = iris_dataset.target[:100]\n",
        "\n",
        "X_train, X_test, y_train, y_test = train_test_split(X, y,train_size=0.8, random_state=0)\n",
        "\n",
        "scaler = StandardScaler()\n",
        "X_train = scaler.fit_transform(X_train)\n",
        "X_test = scaler.fit_transform(X_test)\n",
        "\n",
        "clf = ScratchDecisionTreeClassifier(verbose = True)\n",
        "clf.fit(X_train,y_train)"
      ],
      "metadata": {
        "colab": {
          "base_uri": "https://localhost:8080/"
        },
        "id": "14y5vHNccU0w",
        "outputId": "b8c4f16c-993b-4ba9-80e3-04a1e1dee93f"
      },
      "execution_count": 19,
      "outputs": [
        {
          "output_type": "stream",
          "name": "stdout",
          "text": [
            "feature 0 threshold -1.5975414578074663 gain [0.01282051]\n",
            "feature 0 threshold -1.435765107649749 gain [0.01948052]\n",
            "feature 0 threshold -1.2739887574920306 gain [0.04054054]\n",
            "feature 0 threshold -1.1122124073343136 gain [0.04794521]\n",
            "feature 0 threshold -0.950436057176595 gain [0.07142857]\n",
            "feature 0 threshold -0.7886597070188778 gain [0.08666667]\n",
            "feature 0 threshold -0.6268833568611607 gain [0.12695925]\n",
            "feature 0 threshold -0.4651070067034421 gain [0.20572745]\n",
            "feature 0 threshold -0.303330656545725 gain [0.23142857]\n",
            "feature 0 threshold -0.14155430638800642 gain [0.24747475]\n",
            "feature 0 threshold 0.02022204376971069 gain [0.30050031]\n",
            "feature 2 threshold -0.8121921245041062 gain [0.38888889]\n",
            "feature 2 threshold -0.672610234148943 gain [0.47560976]\n",
            "feature 2 threshold 0.0950901628044546 gain [0.5]\n"
          ]
        }
      ]
    },
    {
      "cell_type": "code",
      "source": [
        "prediction = clf.predict(X_test)\n",
        "\n",
        "acc = accuracy_score(y_test, prediction)\n",
        "precision = precision_score(y_test, prediction, average='micro')\n",
        "recall = recall_score(y_test, prediction, average='micro')\n",
        "\n",
        "print('Scratch Desicion tree: Accuracy', acc, 'Precision ', precision, 'Recall ',recall)\n",
        "\n",
        "dtc = DecisionTreeClassifier(max_depth=1)\n",
        "dtc.fit(X_train, y_train)\n",
        "\n",
        "pred = dtc.predict(X_test)\n",
        "acc = accuracy_score(y_test, pred)\n",
        "precision = precision_score(y_test, pred, average='micro')\n",
        "recall = recall_score(y_test, pred, average='micro')\n",
        "\n",
        "print('Sklearn Desicion tree: Accuracy', acc, 'Precision ', precision, 'Recall ',recall)\n",
        "     "
      ],
      "metadata": {
        "colab": {
          "base_uri": "https://localhost:8080/"
        },
        "id": "YWEo7x1ucjgb",
        "outputId": "f0777132-3ee7-4521-8659-41c0a51723ca"
      },
      "execution_count": 20,
      "outputs": [
        {
          "output_type": "stream",
          "name": "stdout",
          "text": [
            "Scratch Desicion tree: Accuracy 1.0 Precision  1.0 Recall  1.0\n",
            "Sklearn Desicion tree: Accuracy 1.0 Precision  1.0 Recall  1.0\n"
          ]
        }
      ]
    },
    {
      "cell_type": "markdown",
      "source": [
        "**Problem 6 Visualization of decision area**"
      ],
      "metadata": {
        "id": "dAZZbRHmcq3v"
      }
    },
    {
      "cell_type": "code",
      "source": [
        "X = iris_dataset.data[:100,:2]\n",
        "y = iris_dataset.target[:100]\n",
        "(X_train, X_test, y_train, y_test) = train_test_split(X, y, test_size=0.2)\n",
        "\n",
        "scaler = StandardScaler()\n",
        "X_train = scaler.fit_transform(X_train)\n",
        "X_test = scaler.fit_transform(X_test)\n",
        "\n",
        "clf = ScratchDecisionTreeClassifier(verbose = True)\n",
        "clf.fit(X_train,y_train)\n",
        "\n",
        "decision_region(X_test, y_test, clf)"
      ],
      "metadata": {
        "colab": {
          "base_uri": "https://localhost:8080/",
          "height": 663
        },
        "id": "ZawMdYa2co-E",
        "outputId": "fec2a697-7e1d-4a1c-abc4-d2aa410a139b"
      },
      "execution_count": 21,
      "outputs": [
        {
          "output_type": "stream",
          "name": "stdout",
          "text": [
            "feature 0 threshold -1.6000072725932057 gain [0.01346955]\n",
            "feature 0 threshold -1.4392025215788138 gain [0.02046672]\n",
            "feature 0 threshold -1.2783977705644203 gain [0.04259291]\n",
            "feature 0 threshold -1.117593019550028 gain [0.05037243]\n",
            "feature 0 threshold -0.9567882685356346 gain [0.08374547]\n",
            "feature 0 threshold -0.7959835175212424 gain [0.09173878]\n",
            "feature 0 threshold -0.6351787665068503 gain [0.14614059]\n",
            "feature 0 threshold -0.47437401549245684 gain [0.21868026]\n",
            "feature 0 threshold -0.1527645134636712 gain [0.23047395]\n",
            "feature 0 threshold 0.00804023755072089 gain [0.28095704]\n",
            "mesh shape:(152680, 2)\n"
          ]
        },
        {
          "output_type": "display_data",
          "data": {
            "text/plain": [
              "<Figure size 640x480 with 1 Axes>"
            ],
            "image/png": "[encoded data removed]"
          },
          "metadata": {}
        }
      ]
    },
    {
      "cell_type": "code",
      "source": [],
      "metadata": {
        "id": "6fnvdba8c1Ov"
      },
      "execution_count": 10,
      "outputs": []
    }
  ]
}