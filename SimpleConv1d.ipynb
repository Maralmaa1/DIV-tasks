{
  "nbformat": 4,
  "nbformat_minor": 0,
  "metadata": {
    "colab": {
      "provenance": [],
      "authorship_tag": "ABX9TyMXgLLNElYcZQJsKKrQ++F4",
      "include_colab_link": true
    },
    "kernelspec": {
      "name": "python3",
      "display_name": "Python 3"
    },
    "language_info": {
      "name": "python"
    }
  },
  "cells": [
    {
      "cell_type": "markdown",
      "metadata": {
        "id": "view-in-github",
        "colab_type": "text"
      },
      "source": [
        "<a href=\"https://colab.research.google.com/github/Maralmaa1/DIV-tasks/blob/main/SimpleConv1d.ipynb\" target=\"_parent\"><img src=\"https://colab.research.google.com/assets/colab-badge.svg\" alt=\"Open In Colab\"/></a>"
      ]
    },
    {
      "cell_type": "markdown",
      "source": [
        "**Preprocessing**"
      ],
      "metadata": {
        "id": "mD91mvu425PZ"
      }
    },
    {
      "cell_type": "code",
      "execution_count": 1,
      "metadata": {
        "id": "x6quxC-NyW0A"
      },
      "outputs": [],
      "source": [
        "import numpy as np\n",
        "import math"
      ]
    },
    {
      "cell_type": "code",
      "source": [
        "class XavierInitializer:\n",
        "    def W(self, n_nodes1, n_nodes2):\n",
        "        self.sigma = math.sqrt(1 / n_nodes1)\n",
        "        W = self.sigma * np.random.randn(n_nodes1, n_nodes2)\n",
        "        return W\n",
        "    def B(self, n_nodes2):\n",
        "        B = self.sigma * np.random.randn(n_nodes2)\n",
        "        return B\n",
        "\n",
        "class HeInitializer():\n",
        "    def W(self, n_nodes1, n_nodes2):\n",
        "        self.sigma = math.sqrt(2 / n_nodes1)\n",
        "        W = self.sigma * np.random.randn(n_nodes1, n_nodes2)\n",
        "        return W\n",
        "    def B(self, n_nodes2):\n",
        "        B = self.sigma * np.random.randn(n_nodes2)\n",
        "        return B\n",
        "\n",
        "class SimpleInitializer:\n",
        "    def __init__(self, sigma):\n",
        "        self.sigma = sigma\n",
        "    def W(self, *shape):\n",
        "        W = self.sigma * np.random.randn(*shape)\n",
        "        return W\n",
        "    def B(self, *shape):\n",
        "        B = self.sigma * np.random.randn(*shape)\n",
        "        return B"
      ],
      "metadata": {
        "id": "UQa_FoNz2-HY"
      },
      "execution_count": 2,
      "outputs": []
    },
    {
      "cell_type": "code",
      "source": [
        "class SGD:\n",
        "    def __init__(self, lr):\n",
        "        self.lr = lr\n",
        "    def update(self, layer):\n",
        "        layer.W -= self.lr * layer.dW\n",
        "        layer.B -= self.lr * layer.dB\n",
        "        return\n",
        "\n",
        "class AdaGrad:\n",
        "    def __init__(self, lr):\n",
        "        self.lr = lr\n",
        "        self.HW = 1\n",
        "        self.HB = 1\n",
        "    def update(self, layer):\n",
        "        self.HW += layer.dW**2\n",
        "        self.HB += layer.dB**2\n",
        "        layer.W -= self.lr * np.sqrt(1/self.HW) * layer.dW\n",
        "        layer.B -= self.lr * np.sqrt(1/self.HB) * layer.dB"
      ],
      "metadata": {
        "id": "n7HGTNUV3Bau"
      },
      "execution_count": 3,
      "outputs": []
    },
    {
      "cell_type": "markdown",
      "source": [
        "Problem 1: Creating a one-dimensional convolutional layer class with a limited number of channels to 1"
      ],
      "metadata": {
        "id": "HhYLED_V3G53"
      }
    },
    {
      "cell_type": "code",
      "source": [
        "class SimpleConv1d():\n",
        "\n",
        "    def forward(self, x, w, b):\n",
        "        a = []\n",
        "        for i in range(len(w) - 1):\n",
        "            a.append((x[i:i+len(w)] @ w) + b[0])\n",
        "        return np.array(a)\n",
        "    def backward(self, x, w, da):\n",
        "        db = np.sum(da)\n",
        "        dw = []\n",
        "        for i in range(len(w)):\n",
        "            dw.append(da @ x[i:i+len(da)])\n",
        "        dw = np.array(dw)\n",
        "        dx = []\n",
        "        new_w = np.insert(w[::-1], 0, 0)\n",
        "        new_w = np.append(new_w, 0)\n",
        "        for i in range(len(new_w)-1):\n",
        "            dx.append(new_w[i:i+len(da)] @ da)\n",
        "        dx = np.array(dx[::-1])\n",
        "        return db, dw, dx"
      ],
      "metadata": {
        "id": "AqfRc4VX3Fn5"
      },
      "execution_count": 4,
      "outputs": []
    },
    {
      "cell_type": "markdown",
      "source": [
        "Problem 2: Calculation of output size after one-dimensional convolution"
      ],
      "metadata": {
        "id": "QnD7o2Wj4on3"
      }
    },
    {
      "cell_type": "code",
      "source": [
        "def output_size_calculation(n_in, F, P=0, S=1):\n",
        "        n_out = int((n_in + 2*P - F) / S + 1)\n",
        "        return n_out\n",
        "\n",
        "output_size_calculation(n_in=4, F=3)"
      ],
      "metadata": {
        "colab": {
          "base_uri": "https://localhost:8080/"
        },
        "id": "4yj6-QIV4mEH",
        "outputId": "611434c5-f7a4-487c-ee41-71f4645a77ee"
      },
      "execution_count": 5,
      "outputs": [
        {
          "output_type": "execute_result",
          "data": {
            "text/plain": [
              "2"
            ]
          },
          "metadata": {},
          "execution_count": 5
        }
      ]
    },
    {
      "cell_type": "markdown",
      "source": [
        "Problem 3: Experiment of one-dimensional convolutional layer in a small array"
      ],
      "metadata": {
        "id": "dTUPH6a04vPx"
      }
    },
    {
      "cell_type": "code",
      "source": [
        "x = np.array([1,2,3,4])\n",
        "w = np.array([3, 5, 7])\n",
        "b = np.array([1])\n",
        "\n",
        "sc1d = SimpleConv1d()\n",
        "forward_propagation = sc1d.forward(x, w, b)\n",
        "print(\"forward propagation output is {}\".format(forward_propagation))\n",
        "\n",
        "delta_a = np.array([10, 20])\n",
        "db, dw, dx = sc1d.backward(x, w, delta_a)\n",
        "print(\"backpropagation value is: \\n{}\\n{}\\n{}\".format(db,dw,dx))"
      ],
      "metadata": {
        "colab": {
          "base_uri": "https://localhost:8080/"
        },
        "id": "H_Wv_8F04rxm",
        "outputId": "9ebba90d-c36f-462b-82da-aef82bf86787"
      },
      "execution_count": 6,
      "outputs": [
        {
          "output_type": "stream",
          "name": "stdout",
          "text": [
            "forward propagation output is [35 50]\n",
            "backpropagation value is: \n",
            "30\n",
            "[ 50  80 110]\n",
            "[ 30 110 170 140]\n"
          ]
        }
      ]
    },
    {
      "cell_type": "markdown",
      "source": [
        "Problem 4: Creating a one-dimensional convolutional layer class with no limit on the number of channels"
      ],
      "metadata": {
        "id": "WvWl5kec41M3"
      }
    },
    {
      "cell_type": "code",
      "source": [
        "x = np.array([[1, 2, 3, 4], [2, 3, 4, 5]]) # shape(2, 4)で、（入力チャンネル数、特徴量数）である。\n",
        "w = np.ones((3, 2, 3)) # 例の簡略化のため全て1とする。(出力チャンネル数、入力チャンネル数、フィルタサイズ)である。\n",
        "b = np.array([1, 2, 3]) # （出力チャンネル数）"
      ],
      "metadata": {
        "id": "Dnv2Cuw94yg_"
      },
      "execution_count": 7,
      "outputs": []
    },
    {
      "cell_type": "code",
      "source": [
        "\n",
        "a = np.zeros([3, output_size_calculation(4,3,0,1)])\n",
        "\n",
        "for och in range(w.shape[0]):\n",
        "    for ch in range(w.shape[1]):\n",
        "        for m in range(a.shape[1]):\n",
        "            a[och,m] += np.sum(x[ch, m:m+w.shape[2]]* w[och,ch,:])\n",
        "\n",
        "a += b[:,None]\n",
        "print(\"print forward prop:\", a)\n"
      ],
      "metadata": {
        "colab": {
          "base_uri": "https://localhost:8080/"
        },
        "id": "a86u2nte44id",
        "outputId": "aa77da88-9c7b-4be7-e88e-0e167c27e9cd"
      },
      "execution_count": 8,
      "outputs": [
        {
          "output_type": "stream",
          "name": "stdout",
          "text": [
            "print forward prop: [[16. 22.]\n",
            " [17. 23.]\n",
            " [18. 24.]]\n"
          ]
        }
      ]
    },
    {
      "cell_type": "code",
      "source": [],
      "metadata": {
        "id": "0Bm6Uzx947T0"
      },
      "execution_count": null,
      "outputs": []
    }
  ]
}