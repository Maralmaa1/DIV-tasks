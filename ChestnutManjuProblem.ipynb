{
  "nbformat": 4,
  "nbformat_minor": 0,
  "metadata": {
    "colab": {
      "provenance": [],
      "authorship_tag": "ABX9TyO/C0pXZZIyBdQjNy/nzs4y",
      "include_colab_link": true
    },
    "kernelspec": {
      "name": "python3",
      "display_name": "Python 3"
    },
    "language_info": {
      "name": "python"
    }
  },
  "cells": [
    {
      "cell_type": "markdown",
      "metadata": {
        "id": "view-in-github",
        "colab_type": "text"
      },
      "source": [
        "<a href=\"https://colab.research.google.com/github/Maralmaa1/DIV-tasks/blob/main/ChestnutManjuProblem.ipynb\" target=\"_parent\"><img src=\"https://colab.research.google.com/assets/colab-badge.svg\" alt=\"Open In Colab\"/></a>"
      ]
    },
    {
      "cell_type": "markdown",
      "source": [
        "The chestnut bun problem"
      ],
      "metadata": {
        "id": "h961NsnbKRjU"
      }
    },
    {
      "cell_type": "markdown",
      "source": [
        "[Problem] The day when chestnut buns cover the solar system\n",
        "If you sprinkle a single chestnut bun with vine, how long will it take to cover the solar system with chestnut buns? Create a program to calculate this.\n",
        "\n",
        "Make assumptions about the volume of the chestnut buns and the solar system based on your research and calculations. You may simplify the problem by not considering the gap between the chestnut buns and gravity.\n",
        "\n",
        "Create a generic program that can be applied to other situations, such as the time it takes for the Tokyo Dome to fill up when you sprinkle a ball with Byvine. Also, please create a notebook that is easy to understand, e.g., display a graph."
      ],
      "metadata": {
        "id": "kJ78CFqMKVUN"
      }
    },
    {
      "cell_type": "code",
      "execution_count": 14,
      "metadata": {
        "colab": {
          "base_uri": "https://localhost:8080/",
          "height": 312
        },
        "id": "GLEpUl_AKP6e",
        "outputId": "66cf17a7-af6d-4f4e-a371-e3aa05870f19"
      },
      "outputs": [
        {
          "output_type": "display_data",
          "data": {
            "text/plain": [
              "<Figure size 432x288 with 1 Axes>"
            ],
            "image/png": "[encoded data removed]"
          },
          "metadata": {
            "needs_background": "light"
          }
        },
        {
          "output_type": "stream",
          "name": "stdout",
          "text": [
            "The chestnut sprinkled with Byvine bun will cover the solar system in 705 minutes\n"
          ]
        }
      ],
      "source": [
        "import math\n",
        "import matplotlib.pyplot as plt\n",
        "\n",
        "# approximately chestnut bun Length & Height - 4.0 cm x 4.0 cm (from Google). so let's calculate the volume of bun as 64 cm3. it is 0.000064 m3\n",
        "volume_of_chestnutBun = 0.000064 # m3\n",
        "# solar system radius is 4.545 bilion km.\n",
        "solarSystem_radius = 4.545*10**12 #meters\n",
        "volume_of_solarsystem = 3/4 * math.pi * solarSystem_radius**3\n",
        "time = []\n",
        "size = []\n",
        "minutes = 0\n",
        "\n",
        "#calculate the enough time to cover the solar system with chestnut buns\n",
        "while volume_of_chestnutBun < volume_of_solarsystem:\n",
        "  volume_of_chestnutBun *= 2\n",
        "  time.append(minutes)\n",
        "  minutes += 5\n",
        "  size.append(volume_of_chestnutBun)\n",
        "\n",
        "plt.title('to cover the solar system with chestnut buns')\n",
        "plt.xlabel('minutes')\n",
        "plt.ylabel('sizes')\n",
        "plt.plot(time, size)\n",
        "plt.show()\n",
        "\n",
        "print(\"The chestnut sprinkled with Byvine bun will cover the solar system in {} minutes\".format(time[-1]))"
      ]
    },
    {
      "cell_type": "code",
      "source": [],
      "metadata": {
        "id": "ZsAWv4aaWjP2"
      },
      "execution_count": null,
      "outputs": []
    }
  ]
}