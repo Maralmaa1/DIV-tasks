{
  "cells": [
    {
      "cell_type": "markdown",
      "metadata": {
        "id": "view-in-github",
        "colab_type": "text"
      },
      "source": [
        "<a href=\"https://colab.research.google.com/github/Maralmaa1/DIV-tasks/blob/main/Two_dimensional_array_and_gradient_problem.ipynb\" target=\"_parent\"><img src=\"https://colab.research.google.com/assets/colab-badge.svg\" alt=\"Open In Colab\"/></a>"
      ]
    },
    {
      "cell_type": "markdown",
      "metadata": {
        "id": "uxCRXbUOmvDA"
      },
      "source": [
        "[Problem 1] Linear function\n",
        "\n",
        "Consider the following formula where $x$ is in the range -50 to 50.\n",
        "\n",
        "y=1/2x+1\n",
        "Create a ndarray representing x at 0.1 intervals from -50 to 50, and a ndarray representing y for each element."
      ]
    },
    {
      "cell_type": "code",
      "execution_count": 27,
      "metadata": {
        "colab": {
          "base_uri": "https://localhost:8080/"
        },
        "id": "5ipUvHQxmcDS",
        "outputId": "ea711f95-2f59-4ee5-c026-10cf88f30ec9"
      },
      "outputs": [
        {
          "output_type": "stream",
          "name": "stdout",
          "text": [
            "[-24.0, -23.95, -23.9, -23.85, -23.8, -23.75, -23.7, -23.65, -23.6, -23.55, -23.5, -23.45, -23.4, -23.35, -23.3, -23.25, -23.2, -23.15, -23.1, -23.05, -23.0, -22.95, -22.9, -22.85, -22.8, -22.75, -22.7, -22.65, -22.6, -22.55, -22.5, -22.45, -22.4, -22.35, -22.3, -22.25, -22.2, -22.15, -22.1, -22.05, -22.0, -21.95, -21.9, -21.85, -21.8, -21.75, -21.7, -21.65, -21.6, -21.55, -21.5, -21.45, -21.4, -21.35, -21.3, -21.25, -21.2, -21.15, -21.1, -21.05, -21.0, -20.95, -20.9, -20.85, -20.8, -20.75, -20.7, -20.65, -20.6, -20.55, -20.5, -20.45, -20.4, -20.35, -20.3, -20.25, -20.2, -20.15, -20.1, -20.05, -20.0, -19.95, -19.9, -19.85, -19.8, -19.75, -19.7, -19.65, -19.6, -19.55, -19.5, -19.45, -19.4, -19.35, -19.3, -19.25, -19.2, -19.15, -19.1, -19.05, -19.0, -18.95, -18.9, -18.85, -18.8, -18.75, -18.7, -18.65, -18.6, -18.55, -18.5, -18.45, -18.4, -18.35, -18.3, -18.25, -18.2, -18.15, -18.1, -18.05, -18.0, -17.95, -17.9, -17.85, -17.8, -17.75, -17.7, -17.65, -17.6, -17.55, -17.5, -17.45, -17.4, -17.35, -17.3, -17.25, -17.2, -17.15, -17.1, -17.05, -17.0, -16.95, -16.9, -16.85, -16.8, -16.75, -16.7, -16.65, -16.6, -16.55, -16.5, -16.45, -16.4, -16.35, -16.3, -16.25, -16.2, -16.15, -16.1, -16.05, -16.0, -15.95, -15.9, -15.85, -15.8, -15.75, -15.7, -15.65, -15.6, -15.55, -15.5, -15.45, -15.4, -15.35, -15.3, -15.25, -15.2, -15.15, -15.1, -15.05, -15.0, -14.95, -14.9, -14.85, -14.8, -14.75, -14.7, -14.65, -14.6, -14.55, -14.5, -14.45, -14.4, -14.35, -14.3, -14.25, -14.2, -14.15, -14.1, -14.05, -14.0, -13.95, -13.9, -13.85, -13.8, -13.75, -13.7, -13.65, -13.6, -13.55, -13.5, -13.45, -13.4, -13.35, -13.3, -13.25, -13.2, -13.15, -13.1, -13.05, -13.0, -12.95, -12.9, -12.85, -12.8, -12.75, -12.7, -12.65, -12.6, -12.55, -12.5, -12.45, -12.4, -12.35, -12.3, -12.25, -12.2, -12.15, -12.1, -12.05, -12.0, -11.95, -11.9, -11.85, -11.8, -11.75, -11.7, -11.65, -11.6, -11.55, -11.5, -11.45, -11.4, -11.35, -11.3, -11.25, -11.2, -11.15, -11.1, -11.05, -11.0, -10.95, -10.9, -10.85, -10.8, -10.75, -10.7, -10.65, -10.6, -10.55, -10.5, -10.45, -10.4, -10.35, -10.3, -10.25, -10.2, -10.15, -10.1, -10.05, -10.0, -9.95, -9.9, -9.85, -9.8, -9.75, -9.7, -9.65, -9.6, -9.55, -9.5, -9.45, -9.4, -9.35, -9.3, -9.25, -9.2, -9.15, -9.1, -9.05, -9.0, -8.95, -8.9, -8.85, -8.8, -8.75, -8.7, -8.65, -8.6, -8.55, -8.5, -8.45, -8.4, -8.35, -8.3, -8.25, -8.2, -8.15, -8.1, -8.05, -8.0, -7.95, -7.9, -7.85, -7.8, -7.75, -7.7, -7.65, -7.6, -7.55, -7.5, -7.45, -7.4, -7.35, -7.3, -7.25, -7.2, -7.15, -7.1, -7.05, -7.0, -6.95, -6.9, -6.85, -6.8, -6.75, -6.7, -6.65, -6.6, -6.55, -6.5, -6.45, -6.4, -6.35, -6.3, -6.25, -6.2, -6.15, -6.1, -6.05, -6.0, -5.95, -5.9, -5.85, -5.8, -5.75, -5.7, -5.65, -5.6, -5.55, -5.5, -5.45, -5.4, -5.35, -5.3, -5.25, -5.2, -5.15, -5.1, -5.05, -5.0, -4.95, -4.9, -4.85, -4.8, -4.75, -4.7, -4.65, -4.6, -4.55, -4.5, -4.45, -4.4, -4.35, -4.3, -4.25, -4.2, -4.15, -4.1, -4.05, -4.0, -3.95, -3.9, -3.85, -3.8, -3.75, -3.7, -3.65, -3.6, -3.55, -3.5, -3.45, -3.4, -3.35, -3.3, -3.25, -3.2, -3.15, -3.1, -3.05, -3.0, -2.95, -2.9, -2.85, -2.8, -2.75, -2.7, -2.65, -2.6, -2.55, -2.5, -2.45, -2.4, -2.35, -2.3, -2.25, -2.2, -2.15, -2.1, -2.05, -2.0, -1.95, -1.9, -1.85, -1.8, -1.75, -1.7, -1.65, -1.6, -1.55, -1.5, -1.45, -1.4, -1.35, -1.3, -1.25, -1.2, -1.15, -1.1, -1.05, -1.0, -0.95, -0.9, -0.85, -0.8, -0.75, -0.7, -0.65, -0.6, -0.55, -0.5, -0.45, -0.4, -0.35, -0.3, -0.25, -0.2, -0.15, -0.1, -0.05, 2.2049029e-13, 0.05, 0.1, 0.15, 0.2, 0.25, 0.3, 0.35, 0.4, 0.45, 0.5, 0.55, 0.6, 0.65, 0.7, 0.75, 0.8, 0.85, 0.9, 0.95, 1.0, 1.05, 1.1, 1.15, 1.2, 1.25, 1.3, 1.35, 1.4, 1.45, 1.5, 1.55, 1.6, 1.65, 1.7, 1.75, 1.8, 1.85, 1.9, 1.95, 2.0, 2.05, 2.1, 2.15, 2.2, 2.25, 2.3, 2.35, 2.4, 2.45, 2.5, 2.55, 2.6, 2.65, 2.7, 2.75, 2.8, 2.85, 2.9, 2.95, 3.0, 3.05, 3.1, 3.15, 3.2, 3.25, 3.3, 3.35, 3.4, 3.45, 3.5, 3.55, 3.6, 3.65, 3.7, 3.75, 3.8, 3.85, 3.9, 3.95, 4.0, 4.05, 4.1, 4.15, 4.2, 4.25, 4.3, 4.35, 4.4, 4.45, 4.5, 4.55, 4.6, 4.65, 4.7, 4.75, 4.8, 4.85, 4.9, 4.95, 5.0, 5.05, 5.1, 5.15, 5.2, 5.25, 5.3, 5.35, 5.4, 5.45, 5.5, 5.55, 5.6, 5.65, 5.7, 5.75, 5.8, 5.85, 5.9, 5.95, 6.0, 6.05, 6.1, 6.15, 6.2, 6.25, 6.3, 6.35, 6.4, 6.45, 6.5, 6.55, 6.6, 6.65, 6.7, 6.75, 6.8, 6.85, 6.9, 6.95, 7.0, 7.05, 7.1, 7.15, 7.2, 7.25, 7.3, 7.35, 7.4, 7.45, 7.5, 7.55, 7.6, 7.65, 7.7, 7.75, 7.8, 7.85, 7.9, 7.95, 8.0, 8.05, 8.1, 8.15, 8.2, 8.25, 8.3, 8.35, 8.4, 8.45, 8.5, 8.55, 8.6, 8.65, 8.7, 8.75, 8.8, 8.85, 8.9, 8.95, 9.0, 9.05, 9.1, 9.15, 9.2, 9.25, 9.3, 9.35, 9.4, 9.45, 9.5, 9.55, 9.6, 9.65, 9.7, 9.75, 9.8, 9.85, 9.9, 9.95, 10.0, 10.05, 10.1, 10.15, 10.2, 10.25, 10.3, 10.35, 10.4, 10.45, 10.5, 10.55, 10.6, 10.65, 10.7, 10.75, 10.8, 10.85, 10.9, 10.95, 11.0, 11.05, 11.1, 11.15, 11.2, 11.25, 11.3, 11.35, 11.4, 11.45, 11.5, 11.55, 11.6, 11.65, 11.7, 11.75, 11.8, 11.85, 11.9, 11.95, 12.0, 12.05, 12.1, 12.15, 12.2, 12.25, 12.3, 12.35, 12.4, 12.45, 12.5, 12.55, 12.6, 12.65, 12.7, 12.75, 12.8, 12.85, 12.9, 12.95, 13.0, 13.05, 13.1, 13.15, 13.2, 13.25, 13.3, 13.35, 13.4, 13.45, 13.5, 13.55, 13.6, 13.65, 13.7, 13.75, 13.8, 13.85, 13.9, 13.95, 14.0, 14.05, 14.1, 14.15, 14.2, 14.25, 14.3, 14.35, 14.4, 14.45, 14.5, 14.55, 14.6, 14.65, 14.7, 14.75, 14.8, 14.85, 14.9, 14.95, 15.0, 15.05, 15.1, 15.15, 15.2, 15.25, 15.3, 15.35, 15.4, 15.45, 15.5, 15.55, 15.6, 15.65, 15.7, 15.75, 15.8, 15.85, 15.9, 15.95, 16.0, 16.05, 16.1, 16.15, 16.2, 16.25, 16.3, 16.35, 16.4, 16.45, 16.5, 16.55, 16.6, 16.65, 16.7, 16.75, 16.8, 16.85, 16.9, 16.95, 17.0, 17.05, 17.1, 17.15, 17.2, 17.25, 17.3, 17.35, 17.4, 17.45, 17.5, 17.55, 17.6, 17.65, 17.7, 17.75, 17.8, 17.85, 17.9, 17.95, 18.0, 18.05, 18.1, 18.15, 18.2, 18.25, 18.3, 18.35, 18.4, 18.45, 18.5, 18.55, 18.6, 18.65, 18.7, 18.75, 18.8, 18.85, 18.9, 18.95, 19.0, 19.05, 19.1, 19.15, 19.2, 19.25, 19.3, 19.35, 19.4, 19.45, 19.5, 19.55, 19.6, 19.65, 19.7, 19.75, 19.8, 19.85, 19.9, 19.95, 20.0, 20.05, 20.1, 20.15, 20.2, 20.25, 20.3, 20.35, 20.4, 20.45, 20.5, 20.55, 20.6, 20.65, 20.7, 20.75, 20.8, 20.85, 20.9, 20.95, 21.0, 21.05, 21.1, 21.15, 21.2, 21.25, 21.3, 21.35, 21.4, 21.45, 21.5, 21.55, 21.6, 21.65, 21.7, 21.75, 21.8, 21.85, 21.9, 21.95, 22.0, 22.05, 22.1, 22.15, 22.2, 22.25, 22.3, 22.35, 22.4, 22.45, 22.5, 22.55, 22.6, 22.65, 22.7, 22.75, 22.8, 22.85, 22.9, 22.95, 23.0, 23.05, 23.1, 23.15, 23.2, 23.25, 23.3, 23.35, 23.4, 23.45, 23.5, 23.55, 23.6, 23.65, 23.7, 23.75, 23.8, 23.85, 23.9, 23.95, 24.0, 24.05, 24.1, 24.15, 24.2, 24.25, 24.3, 24.35, 24.4, 24.45, 24.5, 24.55, 24.6, 24.65, 24.7, 24.75, 24.8, 24.85, 24.9, 24.95, 25.0, 25.05, 25.1, 25.15, 25.2, 25.25, 25.3, 25.35, 25.4, 25.45, 25.5, 25.55, 25.6, 25.65, 25.7, 25.75, 25.8, 25.85, 25.9, 25.95]\n"
          ]
        }
      ],
      "source": [
        "import numpy as np\n",
        "\n",
        "val = -50\n",
        "ndarray = np.arange(-50, 50, 0.1, dtype=np.float32)\n",
        "\n",
        "for i in range(len(ndarray)):\n",
        "  ndarray[i] = 0.5*val + 1\n",
        "  val += 0.1\n",
        "\n",
        "y = list(map(lambda ndarray:ndarray,ndarray))\n",
        "print(f'{y}')"
      ]
    },
    {
      "cell_type": "markdown",
      "metadata": {
        "id": "RdAB6iN0aR7v"
      },
      "source": [
        "[Problem 2] Array combination\n",
        "\n",
        "Combine the ndarrays created in Problem 1 into an array of the form (1001, 2). Make sure x is in the 0th column and y is in the 1st column."
      ]
    },
    {
      "cell_type": "code",
      "execution_count": 28,
      "metadata": {
        "colab": {
          "base_uri": "https://localhost:8080/"
        },
        "id": "WW7FsH23nZQ1",
        "outputId": "66ff1aa1-f72e-4d45-d9fc-7db8818b1c47"
      },
      "outputs": [
        {
          "output_type": "stream",
          "name": "stdout",
          "text": [
            "[[-24.         -50.        ]\n",
            " [-23.95000076 -49.9       ]\n",
            " [-23.89999962 -49.8       ]\n",
            " ...\n",
            " [ 25.85000038  49.7       ]\n",
            " [ 25.89999962  49.8       ]\n",
            " [ 25.95000076  49.9       ]]\n"
          ]
        }
      ],
      "source": [
        "carray = np.arange(-50,50,0.1)\n",
        "val = -50\n",
        "\n",
        "combined = np.vstack((ndarray, carray)).T\n",
        "print(combined)\n"
      ]
    },
    {
      "cell_type": "markdown",
      "metadata": {
        "id": "nBu8UL9SaZ3i"
      },
      "source": [
        "[Problem 3] Find the gradient\n",
        "\n",
        "Find the gradient at each x-coordinate. Here, the gradient is calculated by dividing the change in y by the change in x. Each amount of change is approximately calculated from the difference between adjacent elements as shown in the figure below."
      ]
    },
    {
      "cell_type": "code",
      "execution_count": 29,
      "metadata": {
        "colab": {
          "base_uri": "https://localhost:8080/"
        },
        "id": "Iakd5U34dywh",
        "outputId": "bdb3c37e-b2cc-489b-ce49-f32fdfb94e7b"
      },
      "outputs": [
        {
          "output_type": "stream",
          "name": "stdout",
          "text": [
            "(999,) (999,) (999,) (1000,)\n"
          ]
        }
      ],
      "source": [
        "ndarray = np.array(y)\n",
        "a = ndarray[1:]\n",
        "b = ndarray[:-1]\n",
        "\n",
        "gradient = a-b\n",
        "print(a.shape, b.shape, gradient.shape, carray.shape)\n"
      ]
    },
    {
      "cell_type": "markdown",
      "metadata": {
        "id": "yXsBP9VDd5MU"
      },
      "source": []
    },
    {
      "cell_type": "markdown",
      "metadata": {
        "id": "vP5oYH5nhE89"
      },
      "source": [
        "[Problem 4] Draw a graph\n",
        "\n",
        "Draw a graph of the linear function using Matplotlib. Also, draw a graph with x on the horizontal axis and gradient on the vertical axis."
      ]
    },
    {
      "cell_type": "code",
      "execution_count": 31,
      "metadata": {
        "colab": {
          "base_uri": "https://localhost:8080/",
          "height": 295
        },
        "id": "cPRPxma5hKfs",
        "outputId": "660fef12-a710-428c-c403-8a7f88fd1f2f"
      },
      "outputs": [
        {
          "output_type": "display_data",
          "data": {
            "text/plain": [
              "<Figure size 432x288 with 1 Axes>"
            ],
            "image/png": "[encoded data removed]"
          },
          "metadata": {
            "needs_background": "light"
          }
        }
      ],
      "source": [
        "import matplotlib.pyplot as plt\n",
        "\n",
        "plt.title('graident')\n",
        "plt.xlabel('x')\n",
        "plt.ylabel('gradient')\n",
        "plt.plot(carray[1:], gradient)\n",
        "plt.show()"
      ]
    },
    {
      "cell_type": "markdown",
      "source": [
        "Problem 5] Python functionalization\n",
        "\n",
        "Please refer to the template to create a Python function that summarizes the problems 1 to 3.\n",
        "\n",
        "Then, calculate the gradient of the following three equations at 0.1 intervals and output it with ndarray.\n",
        "To calculate the sin of a trigonometric function for an ndarray, use np.sin ()."
      ],
      "metadata": {
        "id": "gelByrfQ8J94"
      }
    },
    {
      "cell_type": "code",
      "execution_count": 32,
      "metadata": {
        "id": "08WTP2_chNpI"
      },
      "outputs": [],
      "source": [
        "import math as math\n",
        "def compute_gradient(function, x_range=(-50, 50.1, 0.1)):\n",
        "    \"\"\"\n",
        "    Calculate the gradient using the amount of change.\n",
        "\n",
        "    Parameters\n",
        "    ----------------\n",
        "    function : function\n",
        "      The function you want to find, the one that returns the ndarray of y when you put the ndarray of x.\n",
        "    x_range : tuple\n",
        "      Specify the range in the same way as the argument of np.arange ().\n",
        "\n",
        "    Returns\n",
        "    ----------------\n",
        "    array_xy : ndarray, shape(n, 2)\n",
        "      A combination of x and y. n depends on x_range.\n",
        "    gradient : ndarray, shape(n-1,)\n",
        "      Function gradient. One factor is reduced to make a difference\n",
        "    \"\"\"\n",
        "    array_x = np.arange(-50,50,0.1)\n",
        "    counter = 0\n",
        "\n",
        "    for i in x_range:\n",
        "      array_x[counter] = i\n",
        "      counter = counter + 1\n",
        "    \n",
        "    array_y = function1(array_x)\n",
        "    array_xy = np.vstack((array_x, array_y)).T\n",
        "\n",
        "    gradient=array_y-array_x\n",
        "    return array_xy,gradient\n",
        "\n",
        "def function1(array_x):\n",
        "\n",
        "    array_y = np.arange(-50,50.1,0.1)\n",
        "    counter = 0\n",
        "\n",
        "    for i in array_x:\n",
        "      array_y[counter]=(math.pow(i,2))\n",
        "      counter = counter + 1\n",
        "\n",
        "    return array_y\n",
        "\n",
        "def function2(array_x):\n",
        "\n",
        "    array_y = np.arange(-50,50.1,0.1)\n",
        "    counter = 0\n",
        "\n",
        "    for i in array_x:\n",
        "      array_y[counter]=2 * (math.pow(i,2)) + math.pow(2,x)\n",
        "      counter = counter + 1\n",
        "\n",
        "    return array_y\n",
        "\n",
        "\n",
        "def function3(array_x):\n",
        "\n",
        "    array_y = np.arange(-50,50.1,0.1)\n",
        "    counter = 0\n",
        "\n",
        "    for i in array_x:\n",
        "      array_y[counter]= np.sin (math.pow(i,0.5))\n",
        "      counter = counter + 1\n",
        "\n",
        "    return array_y\n",
        "\n",
        "array_xy, gradient = compute_gradient(function1)"
      ]
    },
    {
      "cell_type": "markdown",
      "source": [
        "[Problem 6] Find the minimum value\n",
        "\n",
        "Find the minimum value of y for the function treated in Problem 5. The range of x is the same as in Problem 5.\n",
        "\n",
        "This time, use the ndarray min method and argmin method instead of the gradient descent method. The min method can get the minimum value, and the argmin method can get the index of the minimum value.\n",
        "\n",
        "Also, display the slope before and after taking the minimum y."
      ],
      "metadata": {
        "id": "3xwiK6KA8XVG"
      }
    },
    {
      "cell_type": "code",
      "source": [
        "min = np.argmin(array_xy,0)\n",
        "mini = np.min(array_xy,0)\n",
        "\n",
        "print(\"{} is result of np.argmin()\".format(min))\n",
        "print(\"{} is result of np.min()\".format(mini))"
      ],
      "metadata": {
        "colab": {
          "base_uri": "https://localhost:8080/"
        },
        "id": "d_as0eSo8bPy",
        "outputId": "6c86e629-7f0e-4bfe-f312-2c5286ee48eb"
      },
      "execution_count": 36,
      "outputs": [
        {
          "output_type": "stream",
          "name": "stdout",
          "text": [
            "[  0 500] is result of np.argmin()\n",
            "[-5.00000000e+01  5.04870979e-25] is result of np.min()\n"
          ]
        }
      ]
    },
    {
      "cell_type": "code",
      "source": [],
      "metadata": {
        "id": "hUzzLwCc-kr5"
      },
      "execution_count": null,
      "outputs": []
    }
  ],
  "metadata": {
    "colab": {
      "provenance": [],
      "authorship_tag": "ABX9TyPuC25Qb4bLILgeyVoo4II6",
      "include_colab_link": true
    },
    "kernelspec": {
      "display_name": "Python 3",
      "name": "python3"
    },
    "language_info": {
      "name": "python"
    }
  },
  "nbformat": 4,
  "nbformat_minor": 0
}