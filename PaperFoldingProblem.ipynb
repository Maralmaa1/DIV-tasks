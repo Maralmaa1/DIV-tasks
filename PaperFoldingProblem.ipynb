{
  "nbformat": 4,
  "nbformat_minor": 0,
  "metadata": {
    "colab": {
      "provenance": [],
      "collapsed_sections": [],
      "authorship_tag": "ABX9TyPK4tPaOF6E2P3+AfRLgSAv",
      "include_colab_link": true
    },
    "kernelspec": {
      "name": "python3",
      "display_name": "Python 3"
    },
    "language_info": {
      "name": "python"
    }
  },
  "cells": [
    {
      "cell_type": "markdown",
      "metadata": {
        "id": "view-in-github",
        "colab_type": "text"
      },
      "source": [
        "<a href=\"https://colab.research.google.com/github/Maralmaa1/DIV-tasks/blob/main/PaperFoldingProblem.ipynb\" target=\"_parent\"><img src=\"https://colab.research.google.com/assets/colab-badge.svg\" alt=\"Open In Colab\"/></a>"
      ]
    },
    {
      "cell_type": "markdown",
      "source": [
        "[Problem 1] Implementation using exponentiation arithmetic operators\n",
        "Create a program that uses the exponentiation arithmetic operator.\n",
        "As a template, we have prepared a code that calculates the thickness of a sheet of paper when it is folded once. Rewrite the code to calculate the thickness when the paper is folded 43 times."
      ],
      "metadata": {
        "id": "t4-KLkPm7kY3"
      }
    },
    {
      "cell_type": "code",
      "source": [
        "# Code to calculate the thickness when the paper is folded 43 times\n",
        "\n",
        "thickness=0.00008\n",
        "   \n",
        "folded_thickness = thickness * 2 **43\n",
        "print(\"Thickness: {} meters\".format(folded_thickness))\n",
        "\n"
      ],
      "metadata": {
        "colab": {
          "base_uri": "https://localhost:8080/"
        },
        "id": "3gjilL8ISrZh",
        "outputId": "b9b0c415-78d1-40f6-97c3-a6b033efdb33"
      },
      "execution_count": 18,
      "outputs": [
        {
          "output_type": "stream",
          "name": "stdout",
          "text": [
            "Thickness: 703687441.77664 meters\n"
          ]
        }
      ]
    },
    {
      "cell_type": "markdown",
      "source": [
        "[Problem 2] Unit Conversion\n",
        "If the unit is meters, it's hard to feel the difference, so please convert the unit to ◯◯ 10,000 kilometers and display it.\n",
        "\n",
        "​We have prepared a code converted to ◯◯ kilometers as a sample, so please refer to it when working on it. It is specified that up to 2 digits are displayed after the decimal point.\n",
        "\n",
        "The distance to the moon is approximately 384,400 km. Let's check if the folded paper arrives in the moon."
      ],
      "metadata": {
        "id": "Hbzx7R0n7us4"
      }
    },
    {
      "cell_type": "code",
      "source": [
        "# Convert meters to 10000 kilometers and display with ten decimal places\n",
        "distance = 384400\n",
        "print(\"Thickness: {: .10f} *10^4 kilometers\".format(thickness / 10000000))\n",
        "if(distance <= folded_thickness ):\n",
        "  print(\"The folded paper can arrive in the moon\")\n",
        "else:\n",
        "  print(\"The folded paper can not arrive in the moon\")"
      ],
      "metadata": {
        "colab": {
          "base_uri": "https://localhost:8080/"
        },
        "id": "KcKSIB0KyyKa",
        "outputId": "5a9776ea-6737-43b5-e308-4b51891b5450"
      },
      "execution_count": 11,
      "outputs": [
        {
          "output_type": "stream",
          "name": "stdout",
          "text": [
            "Thickness:  70.3687441777 *10^4 kilometers\n",
            "The folded paper can arrive in the moon\n"
          ]
        }
      ]
    },
    {
      "cell_type": "markdown",
      "source": [
        "[Problem 3] Create using a for statement\n",
        "Next, create a program that uses the for statement.\n",
        "\n",
        "Do not use exponentiation arithmetic operators. Only the four arithmetic operations+ , - , * , / ) are allowed."
      ],
      "metadata": {
        "id": "_h00Vp13UeOF"
      }
    },
    {
      "cell_type": "code",
      "source": [
        "folded_thickness = thickness\n",
        "for x in range (43):\n",
        "  folded_thickness = folded_thickness * 2\n",
        "print(\"Thickness: {} meters\".format(folded_thickness))\n"
      ],
      "metadata": {
        "id": "_FJbK4XnNxoM",
        "colab": {
          "base_uri": "https://localhost:8080/"
        },
        "outputId": "f3eaf387-2ab8-4171-a119-0d5759c4a3e9"
      },
      "execution_count": 22,
      "outputs": [
        {
          "output_type": "stream",
          "name": "stdout",
          "text": [
            "Thickness: 703687441.77664 meters\n"
          ]
        }
      ]
    },
    {
      "cell_type": "markdown",
      "source": [
        "[Problem 4] Comparison of calculation time\n",
        "Both of the above two methods are correct, but when comparing the goodness of the code, for example, the following points are evaluated.\n",
        "\n",
        "Execution speed\n",
        "Memory usage\n",
        "Readability\n",
        "Scalability\n",
        "Reusability\n",
        "This time I will compare the execution speed.\n",
        "\n",
        "Use the template below to output the execution times of the two methods and compare them. Compare the time in the range excluding the parts used by either method, such as variable definition and print​"
      ],
      "metadata": {
        "id": "vVSfxr508lns"
      }
    },
    {
      "cell_type": "code",
      "source": [
        "import time\n",
        "start = time.time()\n",
        "##### \n",
        "folded_thickness = thickness * 2 ** 43\n",
        "#####\n",
        "elapsed_time = time.time() - start\n",
        "print(\"time : {}[s]\".format(elapsed_time))"
      ],
      "metadata": {
        "colab": {
          "base_uri": "https://localhost:8080/"
        },
        "id": "wI1RjHrUA9jA",
        "outputId": "4c7b94b1-4fc6-4cf7-8579-4c64f72039fb"
      },
      "execution_count": 13,
      "outputs": [
        {
          "output_type": "stream",
          "name": "stdout",
          "text": [
            "time : 0.00012612342834472656[s]\n"
          ]
        }
      ]
    },
    {
      "cell_type": "code",
      "source": [
        "import time\n",
        "start = time.time()\n",
        "folded_thickness = thickness\n",
        "#####\n",
        "for x in range (43):\n",
        "  folded_thickness = folded_thickness * 2\n",
        "#####\n",
        "elapsed_time = time.time() - start\n",
        "print(\"time : {}[s]\".format(elapsed_time))"
      ],
      "metadata": {
        "colab": {
          "base_uri": "https://localhost:8080/"
        },
        "id": "POrM1ow5Jxxj",
        "outputId": "1a17b96e-377f-4373-fa98-95e27df5b109"
      },
      "execution_count": 23,
      "outputs": [
        {
          "output_type": "stream",
          "name": "stdout",
          "text": [
            "time : 0.0001556873321533203[s]\n"
          ]
        }
      ]
    },
    {
      "cell_type": "markdown",
      "source": [
        "[Problem 5] Saving to a list\n",
        "So far, we have only used the last value after 43 folds, but we need the process values as well to visualize them in the graph; add the code that records the total of 44 process values to the code using the for statement.\n",
        "\n",
        "<< Hint >>\n",
        "\n",
        "First, create an empty list.\n",
        "Next, add the value before folding to the list.\n",
        "Add the value of the process of folding the paper up to n times in the for statement to the list.\n",
        "Finally, let's use the len function to confirm that 44 values are stored in the list."
      ],
      "metadata": {
        "id": "kVwEnW_SBByW"
      }
    },
    {
      "cell_type": "code",
      "source": [
        "list = []\n",
        "for i in range(44):\n",
        "  list.append(thickness*2**i)\n",
        "print(\"{} values are stored in list\".format(len(list)))\n",
        "print(\"{}\".format(list[-1]))"
      ],
      "metadata": {
        "colab": {
          "base_uri": "https://localhost:8080/"
        },
        "id": "g-zGGTaiK8Rp",
        "outputId": "2a1eef2e-7680-470a-f48f-fb3b10ac5959"
      },
      "execution_count": 25,
      "outputs": [
        {
          "output_type": "stream",
          "name": "stdout",
          "text": [
            "703687441.77664\n"
          ]
        }
      ]
    },
    {
      "cell_type": "markdown",
      "source": [
        "[Problem 6] Displaying a line graph\n",
        "A library called Matplotlib is used to draw the graph. Use the following template after the code you want to record in the list."
      ],
      "metadata": {
        "id": "VSAtQ6etK9x4"
      }
    },
    {
      "cell_type": "markdown",
      "source": [
        "[Problem 7] Customizing graphs\n",
        "Let's customize the graph to make it easier to see. Create at least 3 customized graphs. For example, the line color can be changed to red by rewriting as follows."
      ],
      "metadata": {
        "id": "czOuDLN1T84Q"
      }
    },
    {
      "cell_type": "code",
      "source": [
        "# Display the axis value in large size.\n",
        "plt.title(\"thickness of folded paper\")\n",
        "plt.xlabel(\"number of folds\")\n",
        "plt.ylabel(\"thickness[m]\")\n",
        "plt.plot(list, color='green', marker='o', linestyle='solid',linewidth=2, markersize=4)\n",
        "plt.tick_params(labelsize=20) \n",
        "plt.show()\n",
        "#edited line color, line thicker and font size of the value. And add dot on line"
      ],
      "metadata": {
        "colab": {
          "base_uri": "https://localhost:8080/",
          "height": 304
        },
        "id": "kqxn6Rq_VVEa",
        "outputId": "f4a27dec-ded9-4f7e-ed81-e6a116a24a6c"
      },
      "execution_count": 63,
      "outputs": [
        {
          "output_type": "display_data",
          "data": {
            "text/plain": [
              "<Figure size 432x288 with 1 Axes>"
            ],
            "image/png": "[encoded data removed]"
          },
          "metadata": {
            "needs_background": "light"
          }
        }
      ]
    }
  ]
}