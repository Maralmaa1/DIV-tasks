{
  "nbformat": 4,
  "nbformat_minor": 0,
  "metadata": {
    "colab": {
      "provenance": [],
      "authorship_tag": "ABX9TyOedEQzBne2/x9OS2RL0x/C",
      "include_colab_link": true
    },
    "kernelspec": {
      "name": "python3",
      "display_name": "Python 3"
    },
    "language_info": {
      "name": "python"
    }
  },
  "cells": [
    {
      "cell_type": "markdown",
      "metadata": {
        "id": "view-in-github",
        "colab_type": "text"
      },
      "source": [
        "<a href=\"https://colab.research.google.com/github/Maralmaa1/DIV-tasks/blob/main/SVM.ipynb\" target=\"_parent\"><img src=\"https://colab.research.google.com/assets/colab-badge.svg\" alt=\"Open In Colab\"/></a>"
      ]
    },
    {
      "cell_type": "markdown",
      "source": [
        "**Preprocessing and Import library**"
      ],
      "metadata": {
        "id": "ltJahzl8Gti1"
      }
    },
    {
      "cell_type": "code",
      "execution_count": 2,
      "metadata": {
        "id": "bmnhh9PMGeG2"
      },
      "outputs": [],
      "source": [
        "import numpy as np\n",
        "from sklearn import datasets\n",
        "import matplotlib.pyplot as plt\n",
        "import numpy as np\n",
        "from sklearn.metrics import accuracy_score\n",
        "from sklearn.model_selection import train_test_split\n",
        "from sklearn import svm\n",
        "\n",
        "# Creating dataset\n",
        "X, y = datasets.make_blobs(\n",
        "\n",
        "        n_samples = 100, # Number of samples\n",
        "        n_features = 2, # Features\n",
        "        centers = 2,\n",
        "        cluster_std = 1,\n",
        "        random_state=40\n",
        "    )\n",
        "\n",
        "# Classes 1 and -1\n",
        "y = np.where(y == 0, -1, 1)\n",
        "X_train, X_test, y_train, y_test = train_test_split(X, y, test_size=0.5, random_state=42)\n",
        "     "
      ]
    },
    {
      "cell_type": "code",
      "source": [
        "print(f\"X_train: {X_train.shape}\\nX_test: {X_test.shape} \\\n",
        "\\ny_train: {y_train.shape}\\ny_test: {y_test.shape}\")"
      ],
      "metadata": {
        "colab": {
          "base_uri": "https://localhost:8080/"
        },
        "id": "35xE14A5Wu-T",
        "outputId": "825d0050-1550-4a9f-cfe0-073b68db445e"
      },
      "execution_count": 3,
      "outputs": [
        {
          "output_type": "stream",
          "name": "stdout",
          "text": [
            "X_train: (50, 2)\n",
            "X_test: (50, 2) \n",
            "y_train: (50,)\n",
            "y_test: (50,)\n"
          ]
        }
      ]
    },
    {
      "cell_type": "code",
      "source": [
        "print(X_train[:10])\n"
      ],
      "metadata": {
        "colab": {
          "base_uri": "https://localhost:8080/"
        },
        "id": "svKGSaAIW9gl",
        "outputId": "c7e86144-0083-4b01-ee46-894f24e07d35"
      },
      "execution_count": 4,
      "outputs": [
        {
          "output_type": "stream",
          "name": "stdout",
          "text": [
            "[[-1.13599245 -7.83714475]\n",
            " [ 6.57763844 -5.14520694]\n",
            " [ 4.91043779 -5.31295279]\n",
            " [-1.79218634 -8.63472578]\n",
            " [ 4.88032295 -3.36537701]\n",
            " [ 5.89719054 -4.4086904 ]\n",
            " [-3.69066047 -9.35968162]\n",
            " [-1.3143854  -9.90970266]\n",
            " [-1.77146079 -9.39829903]\n",
            " [ 6.80160015 -3.94990297]]\n"
          ]
        }
      ]
    },
    {
      "cell_type": "code",
      "source": [
        "print(y_train[:10])"
      ],
      "metadata": {
        "colab": {
          "base_uri": "https://localhost:8080/"
        },
        "id": "j93BaMKfW9Nx",
        "outputId": "b925195c-996e-448f-c7f3-5905b6084a5f"
      },
      "execution_count": 5,
      "outputs": [
        {
          "output_type": "stream",
          "name": "stdout",
          "text": [
            "[-1  1  1 -1  1  1 -1 -1 -1  1]\n"
          ]
        }
      ]
    },
    {
      "cell_type": "markdown",
      "source": [
        "**Problem 1-3**"
      ],
      "metadata": {
        "id": "A_X-mL2bXHOo"
      }
    },
    {
      "cell_type": "code",
      "source": [
        "class scratchSVM(object):\n",
        "      \"\"\"\n",
        "    SVM分類器のスクラッチ実装\n",
        "\n",
        "    Parameters\n",
        "    ----------\n",
        "    num_iter : int\n",
        "      イテレーション数\n",
        "    lr : float\n",
        "      学習率\n",
        "    kernel : str\n",
        "      カーネルの種類。線形カーネル（linear）か多項式カーネル（polly）\n",
        "    threshold : float\n",
        "      サポートベクターを選ぶための閾値\n",
        "    verbose : bool\n",
        "      学習過程を出力する場合はTrue\n",
        "\n",
        "    Attributes\n",
        "    ----------\n",
        "    self.n_support_vectors : int\n",
        "      サポートベクターの数\n",
        "    self.index_support_vectors : 次の形のndarray, shape (n_support_vectors,)\n",
        "      サポートベクターのインデックス\n",
        "    self.X_sv :  次の形のndarray, shape(n_support_vectors, n_features)\n",
        "      サポートベクターの特徴量\n",
        "    self.lam_sv :  次の形のndarray, shape(n_support_vectors, 1)\n",
        "      サポートベクターの未定乗数\n",
        "    self.y_sv :  次の形のndarray, shape(n_support_vectors, 1)\n",
        "      サポートベクターのラベル\n",
        "\n",
        "    \"\"\"\n",
        "      def __init__(self, C = 1.0,verbose=True, batch_size=100, learning_rate=0.001, epochs=100):\n",
        "          # C = error term\n",
        "          self.C = C\n",
        "          self.w = 0\n",
        "          self.b = 0\n",
        "          self.verbose = verbose\n",
        "          self.batch_size = batch_size\n",
        "          self.learning_rate = learning_rate\n",
        "          self.epochs = epochs\n",
        "\n",
        "\n",
        "      def hingeloss(self, w, b, x, y):\n",
        "          # Regularizer term\n",
        "          reg = 0.5 * (w * w)\n",
        "\n",
        "          for i in range(x.shape[0]):\n",
        "              # Optimization term\n",
        "              opt_term = y[i] * ((np.dot(w, x[i])) + b)\n",
        "\n",
        "              # calculating loss\n",
        "              loss = reg + self.C * max(0, 1-opt_term)\n",
        "          return loss[0][0]\n",
        "    \n",
        "      def fit(self, X, Y):\n",
        "          \"\"\"\n",
        "          SVM分類器を学習する。検証データが入力された場合はそれに対する精度もイテレーションごとに計算する。\n",
        "\n",
        "          Parameters\n",
        "          ----------\n",
        "          X : 次の形のndarray, shape (n_samples, n_features)\n",
        "              訓練データの特徴量\n",
        "          y : 次の形のndarray, shape (n_samples, )\n",
        "              訓練データの正解値\n",
        "          X_val : 次の形のndarray, shape (n_samples, n_features)\n",
        "              検証データの特徴量\n",
        "          y_val : 次の形のndarray, shape (n_samples, )\n",
        "              検証データの正解値\n",
        "          \"\"\"\n",
        "          # The number of features in X\n",
        "          number_of_features = X.shape[1]\n",
        "\n",
        "          # The number of Samples in X\n",
        "          number_of_samples = X.shape[0]\n",
        "\n",
        "          c = self.C\n",
        "\n",
        "          # Creating ids from 0 to number_of_samples - 1\n",
        "          ids = np.arange(number_of_samples)\n",
        "\n",
        "          # Shuffling the samples randomly\n",
        "          np.random.shuffle(ids)\n",
        "\n",
        "          # creating an array of zeros\n",
        "          w = np.zeros((1, number_of_features))\n",
        "          b = 0\n",
        "          losses = []\n",
        "\n",
        "          # Gradient Descent logic\n",
        "          for i in range(self.epochs):\n",
        "              # Calculating the Hinge Loss\n",
        "              l = self.hingeloss(w, b, X, Y)\n",
        "\n",
        "              # Appending all losses \n",
        "              losses.append(l)\n",
        "              \n",
        "              # Starting from 0 to the number of samples with batch_size as interval\n",
        "              for batch_initial in range(0, number_of_samples, self.batch_size):\n",
        "                  gradw = 0\n",
        "                  gradb = 0\n",
        "\n",
        "                  for j in range(batch_initial, batch_initial + self.batch_size):\n",
        "                      if j < number_of_samples:\n",
        "                          x = ids[j]\n",
        "                          ti = Y[x] * (np.dot(w, X[x].T) + b)\n",
        "\n",
        "                          if ti > 1:\n",
        "                              gradw += 0\n",
        "                              gradb += 0\n",
        "                          else:\n",
        "                              # Calculating the gradients\n",
        "\n",
        "                              #w.r.t w \n",
        "                              gradw += c * Y[x] * X[x]\n",
        "                              # w.r.t b\n",
        "                              gradb += c * Y[x]\n",
        "\n",
        "                  # Updating weights and bias\n",
        "                  w = w - self.learning_rate * w + self.learning_rate * gradw\n",
        "                  b = b + self.learning_rate * gradb\n",
        "              \n",
        "              if self.verbose:\n",
        "                  #verboseをTrueにした際は学習過程を出力\n",
        "                  print(\"epoch: {}, loss: {}\".format(i,l))\n",
        "          \n",
        "          self.w = w\n",
        "          self.b = b\n",
        "\n",
        "          return self.w, self.b, losses \n",
        "    \n",
        "      def predict(self, X):\n",
        "          \"\"\"\n",
        "          SVM分類器を使いラベルを推定する。\n",
        "\n",
        "          Parameters\n",
        "          ----------\n",
        "          X : 次の形のndarray, shape (n_samples, n_features)\n",
        "              サンプル\n",
        "\n",
        "          Returns\n",
        "          -------\n",
        "              次の形のndarray, shape (n_samples, 1)\n",
        "              SVM分類器による推定結果\n",
        "          \"\"\"\n",
        "          prediction = np.dot(X, self.w[0]) + self.b # w.x + b\n",
        "          return np.sign(prediction)"
      ],
      "metadata": {
        "id": "kSAZhGwxzChP"
      },
      "execution_count": 6,
      "outputs": []
    },
    {
      "cell_type": "markdown",
      "source": [
        "**problem 4 Learning and estimation**\n",
        "\n",
        "Implenmentation of my scratch"
      ],
      "metadata": {
        "id": "uDDiek7jXTL6"
      }
    },
    {
      "cell_type": "code",
      "source": [
        "my_svm = scratchSVM()\n",
        "w, b, losses = my_svm.fit(X_train, y_train)\n",
        "\n",
        "prediction = my_svm.predict(X_test)\n",
        "\n",
        "# Loss value\n",
        "lss = losses.pop()\n",
        "\n",
        "print(\"Loss:\", lss)\n",
        "print(\"Prediction:\", prediction)\n",
        "print(\"Accuracy:\", accuracy_score(prediction, y_test))\n",
        "print(\"w, b:\", [w, b])"
      ],
      "metadata": {
        "id": "szaGA-pEzOAW",
        "colab": {
          "base_uri": "https://localhost:8080/"
        },
        "outputId": "1ba9c75d-163c-483c-de5c-ba88f6548c24"
      },
      "execution_count": 8,
      "outputs": [
        {
          "output_type": "stream",
          "name": "stdout",
          "text": [
            "epoch: 0, loss: 1.0\n",
            "epoch: 1, loss: 0.07021230572002332\n",
            "epoch: 2, loss: 0.043376698101217304\n",
            "epoch: 3, loss: 0.04899615514976494\n",
            "epoch: 4, loss: 0.055660308995054884\n",
            "epoch: 5, loss: 0.05991419317398983\n",
            "epoch: 6, loss: 0.06393006453422267\n",
            "epoch: 7, loss: 0.06511998402453191\n",
            "epoch: 8, loss: 0.06774286653318794\n",
            "epoch: 9, loss: 0.06885396110405563\n",
            "epoch: 10, loss: 0.07154640211008971\n",
            "epoch: 11, loss: 0.07268425165224651\n",
            "epoch: 12, loss: 0.0738299266287202\n",
            "epoch: 13, loss: 0.07498340129647199\n",
            "epoch: 14, loss: 0.07614464997402348\n",
            "epoch: 15, loss: 0.0773136470413234\n",
            "epoch: 16, loss: 0.07849036693961481\n",
            "epoch: 17, loss: 0.0796747841713024\n",
            "epoch: 18, loss: 0.08086687329982026\n",
            "epoch: 19, loss: 0.08376987061690169\n",
            "epoch: 20, loss: 0.0849879223184466\n",
            "epoch: 21, loss: 0.08621353449331881\n",
            "epoch: 22, loss: 0.08744668203277348\n",
            "epoch: 23, loss: 0.08887537349247533\n",
            "epoch: 24, loss: 0.09012464505107066\n",
            "epoch: 25, loss: 0.09138137324874174\n",
            "epoch: 26, loss: 0.09283771488249133\n",
            "epoch: 27, loss: 0.0941104019223319\n",
            "epoch: 28, loss: 0.09539046745749953\n",
            "epoch: 29, loss: 0.09687420409336027\n",
            "epoch: 30, loss: 0.09648443169864131\n",
            "epoch: 31, loss: 0.09797551376518049\n",
            "epoch: 32, loss: 0.09947652110832365\n",
            "epoch: 33, loss: 0.0990789286277954\n",
            "epoch: 34, loss: 0.10058721765583319\n",
            "epoch: 35, loss: 0.10018629791733226\n",
            "epoch: 36, loss: 0.10170184176003026\n",
            "epoch: 37, loss: 0.10149853977835196\n",
            "epoch: 38, loss: 0.10129564419733503\n",
            "epoch: 39, loss: 0.10109315420458456\n",
            "epoch: 40, loss: 0.1008910689893296\n",
            "epoch: 41, loss: 0.10068938774241994\n",
            "epoch: 42, loss: 0.10048810965632282\n",
            "epoch: 43, loss: 0.10028723392511983\n",
            "epoch: 44, loss: 0.10008675974450353\n",
            "epoch: 45, loss: 0.09988668631177428\n",
            "epoch: 46, loss: 0.09968701282583704\n",
            "epoch: 47, loss: 0.09948773848719819\n",
            "epoch: 48, loss: 0.09928886249796229\n",
            "epoch: 49, loss: 0.09909038406182887\n",
            "epoch: 50, loss: 0.09889230238408926\n",
            "epoch: 51, loss: 0.09849646249889653\n",
            "epoch: 52, loss: 0.10000091432194427\n",
            "epoch: 53, loss: 0.0998010124942147\n",
            "epoch: 54, loss: 0.09960151027023877\n",
            "epoch: 55, loss: 0.09940240685120857\n",
            "epoch: 56, loss: 0.09920370143991301\n",
            "epoch: 57, loss: 0.09900539324073464\n",
            "epoch: 58, loss: 0.09880748145964642\n",
            "epoch: 59, loss: 0.10031398406632207\n",
            "epoch: 60, loss: 0.09991388227082873\n",
            "epoch: 61, loss: 0.10142764628391228\n",
            "epoch: 62, loss: 0.10122489241899074\n",
            "epoch: 63, loss: 0.10082206519075232\n",
            "epoch: 64, loss: 0.10234175056047326\n",
            "epoch: 65, loss: 0.10213716940110287\n",
            "epoch: 66, loss: 0.10193299719947006\n",
            "epoch: 67, loss: 0.10172923313806832\n",
            "epoch: 68, loss: 0.10152587640102533\n",
            "epoch: 69, loss: 0.10132292617409967\n",
            "epoch: 70, loss: 0.10112038164467764\n",
            "epoch: 71, loss: 0.10091824200176994\n",
            "epoch: 72, loss: 0.1007165064360084\n",
            "epoch: 73, loss: 0.10051517413964281\n",
            "epoch: 74, loss: 0.10031424430653765\n",
            "epoch: 75, loss: 0.10011371613216888\n",
            "epoch: 76, loss: 0.09991358881362067\n",
            "epoch: 77, loss: 0.09971386154958223\n",
            "epoch: 78, loss: 0.09951453354034462\n",
            "epoch: 79, loss: 0.09931560398779746\n",
            "epoch: 80, loss: 0.09911707209542585\n",
            "epoch: 81, loss: 0.0989189370683071\n",
            "epoch: 82, loss: 0.09872119811310755\n",
            "epoch: 83, loss: 0.09852385443807946\n",
            "epoch: 84, loss: 0.09832690525305773\n",
            "epoch: 85, loss: 0.09813034976945688\n",
            "epoch: 86, loss: 0.09793418720026772\n",
            "epoch: 87, loss: 0.09773841676005439\n",
            "epoch: 88, loss: 0.09754303766495105\n",
            "epoch: 89, loss: 0.0973480491326588\n",
            "epoch: 90, loss: 0.0986465868081824\n",
            "epoch: 91, loss: 0.10015202904051418\n",
            "epoch: 92, loss: 0.09975241224293122\n",
            "epoch: 93, loss: 0.10126511979447188\n",
            "epoch: 94, loss: 0.10106269082000273\n",
            "epoch: 95, loss: 0.10086066650105355\n",
            "epoch: 96, loss: 0.10065904602871795\n",
            "epoch: 97, loss: 0.10045782859570654\n",
            "epoch: 98, loss: 0.10025701339634373\n",
            "epoch: 99, loss: 0.10005659962656445\n",
            "Loss: 0.10005659962656445\n",
            "Prediction: [-1.  1. -1. -1.  1.  1.  1.  1. -1.  1. -1. -1.  1.  1. -1. -1.  1. -1.\n",
            "  1. -1.  1.  1. -1.  1.  1.  1. -1. -1. -1. -1.  1. -1. -1.  1.  1. -1.\n",
            "  1. -1. -1.  1.  1.  1.  1.  1.  1. -1.  1.  1.  1.  1.]\n",
            "Accuracy: 1.0\n",
            "w, b: [array([[0.4468928 , 0.14581225]]), 0.02600000000000001]\n"
          ]
        }
      ]
    },
    {
      "cell_type": "markdown",
      "source": [
        "**Implementation**"
      ],
      "metadata": {
        "id": "xPXhgQWnYBjs"
      }
    },
    {
      "cell_type": "code",
      "source": [
        "clf = svm.SVC(verbose=True)\n",
        "# clf.fit(X_train, y_train)\n",
        "# perdiction_skl = clf.predict(X_test)\n",
        "\n",
        "clf.fit(X_train, y_train)\n",
        "\n",
        "perdiction_skl = clf.predict(X_test)\n",
        "\n",
        "print(\"Prediction:\", perdiction_skl)\n",
        "print(\"Accuracy:\", accuracy_score(perdiction_skl, y_test))"
      ],
      "metadata": {
        "colab": {
          "base_uri": "https://localhost:8080/"
        },
        "id": "-TRUAwI3XbdN",
        "outputId": "3d45a27d-e66d-4110-b6e3-7ac93e55f2a1"
      },
      "execution_count": 9,
      "outputs": [
        {
          "output_type": "stream",
          "name": "stdout",
          "text": [
            "[LibSVM]Prediction: [-1  1 -1 -1  1  1  1  1 -1  1 -1 -1  1  1 -1 -1  1 -1  1 -1  1  1 -1  1\n",
            "  1  1 -1 -1 -1 -1  1 -1 -1  1  1 -1  1 -1 -1  1  1  1  1  1  1 -1  1  1\n",
            "  1  1]\n",
            "Accuracy: 1.0\n"
          ]
        }
      ]
    },
    {
      "cell_type": "markdown",
      "source": [
        "**Problem 5 Visualization of decision areas**"
      ],
      "metadata": {
        "id": "IsHGA39PYLeF"
      }
    },
    {
      "cell_type": "code",
      "source": [
        "# Visualizing the scatter plot of the dataset\n",
        "def visualize_dataset():\n",
        "    plt.scatter(X[:, 0], X[:, 1], c=y)\n",
        "\n",
        "\n",
        "# Visualizing SVM\n",
        "def visualize_svm():\n",
        "\n",
        "    def get_hyperplane_value(x, w, b, offset):\n",
        "        return (-w[0][0] * x + b + offset) / w[0][1]\n",
        "\n",
        "    fig = plt.figure()\n",
        "    ax = fig.add_subplot(1,1,1)\n",
        "    plt.scatter(X_test[:, 0], X_test[:, 1], marker=\"o\", c=y_test)\n",
        "\n",
        "    x0_1 = np.amin(X_test[:, 0])\n",
        "    x0_2 = np.amax(X_test[:, 0])\n",
        "\n",
        "    x1_1 = get_hyperplane_value(x0_1, w, b, 0)\n",
        "    x1_2 = get_hyperplane_value(x0_2, w, b, 0)\n",
        "\n",
        "    x1_1_m = get_hyperplane_value(x0_1, w, b, -1)\n",
        "    x1_2_m = get_hyperplane_value(x0_2, w, b, -1)\n",
        "\n",
        "    x1_1_p = get_hyperplane_value(x0_1, w, b, 1)\n",
        "    x1_2_p = get_hyperplane_value(x0_2, w, b, 1)\n",
        "\n",
        "    ax.plot([x0_1, x0_2], [x1_1, x1_2], \"y--\")\n",
        "    ax.plot([x0_1, x0_2], [x1_1_m, x1_2_m], \"k\")\n",
        "    ax.plot([x0_1, x0_2], [x1_1_p, x1_2_p], \"k\")\n",
        "\n",
        "    x1_min = np.amin(X[:, 1])\n",
        "    x1_max = np.amax(X[:, 1])\n",
        "    ax.set_ylim([x1_min - 3, x1_max + 3])\n",
        "\n",
        "    plt.show()\n",
        "\n",
        "\n",
        "visualize_dataset()\n",
        "visualize_svm()\n"
      ],
      "metadata": {
        "colab": {
          "base_uri": "https://localhost:8080/",
          "height": 845
        },
        "id": "tumbXU4uYJzd",
        "outputId": "4cf8c4f2-331c-49e5-f715-6cadb673c633"
      },
      "execution_count": 10,
      "outputs": [
        {
          "output_type": "display_data",
          "data": {
            "text/plain": [
              "<Figure size 640x480 with 1 Axes>"
            ],
            "image/png": "[encoded data removed]"
          },
          "metadata": {}
        },
        {
          "output_type": "display_data",
          "data": {
            "text/plain": [
              "<Figure size 640x480 with 1 Axes>"
            ],
            "image/png": "[encoded data removed]"
          },
          "metadata": {}
        }
      ]
    },
    {
      "cell_type": "code",
      "source": [],
      "metadata": {
        "id": "I62GJIQ5YXxh"
      },
      "execution_count": null,
      "outputs": []
    }
  ]
}